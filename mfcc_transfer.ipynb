{
 "cells": [
  {
   "cell_type": "markdown",
   "metadata": {},
   "source": [
    "### Spectrogram based Transfer Learning"
   ]
  },
  {
   "cell_type": "code",
   "execution_count": 18,
   "metadata": {},
   "outputs": [],
   "source": [
    "n_mfcc = 64\n",
    "n_mfcc_width = 432\n",
    "window_size = 10\n",
    "audio_len = 30\n",
    "audio_len_nn = 90\n",
    "data_dir = 'audio-train-transfer'\n",
    "n_samples = 118"
   ]
  },
  {
   "cell_type": "markdown",
   "metadata": {},
   "source": [
    "#### Data cleanup"
   ]
  },
  {
   "cell_type": "code",
   "execution_count": 2,
   "metadata": {},
   "outputs": [],
   "source": [
    "import matplotlib.pyplot as plt\n",
    "import os\n",
    "import subprocess\n",
    "\n",
    "def run_preprocess(root, length, split):\n",
    "    for subdir, dirs, files in os.walk(root):\n",
    "        for directory in dirs:\n",
    "            subprocess.call([\"./preprocess_transfer\", os.path.join(subdir, directory), length, split])\n",
    "        break"
   ]
  },
  {
   "cell_type": "code",
   "execution_count": 3,
   "metadata": {},
   "outputs": [],
   "source": [
    "import numpy as np\n",
    "import librosa as lp\n",
    "\n",
    "def load_features(root, split):\n",
    "    mfcc_data = []\n",
    "    mfcc_label = []\n",
    "    for subdir, dirs, files in os.walk(root):\n",
    "        for directory in dirs:\n",
    "            file_path = os.path.join(subdir, directory, \"split\", split, \"wav\")\n",
    "            print (directory)\n",
    "            if len(directory.split(\".\")) != 2:\n",
    "                continue\n",
    "            for filename in os.listdir(file_path):\n",
    "                y, sr = lp.load(os.path.join(file_path, filename))\n",
    "                mfcc = lp.feature.mfcc(y = y, sr = 16000, n_mfcc = n_mfcc)\n",
    "                if mfcc.size == 0:\n",
    "                    continue\n",
    "                mfcc = np.pad(mfcc, pad_width=((0, 0), (0, n_mfcc_width)), mode='constant')\n",
    "                if mfcc.shape != (n_mfcc, n_mfcc_width):\n",
    "                    mfcc = mfcc[:, :n_mfcc_width]\n",
    "                mfcc_data.append(mfcc)\n",
    "                mfcc_label.append(directory.split('.')[0])\n",
    "        break\n",
    "    return mfcc_data, mfcc_label"
   ]
  },
  {
   "cell_type": "code",
   "execution_count": 4,
   "metadata": {},
   "outputs": [],
   "source": [
    "import shutil\n",
    "import glob\n",
    "\n",
    "def cleanup_split(root):\n",
    "    for subdir, dirs, files in os.walk(root):\n",
    "        for directory in dirs:\n",
    "            shutil.rmtree(os.path.join(subdir, directory, \"split\"), ignore_errors = True)\n",
    "        break\n",
    "\n",
    "def cleanup_merged(root):\n",
    "    for subdir, dirs, files in os.walk(root):\n",
    "        for directory in dirs:\n",
    "            for f in glob.glob(os.path.join(subdir, directory, \"*.wav\")):\n",
    "                os.remove(f)\n",
    "        break"
   ]
  },
  {
   "cell_type": "code",
   "execution_count": 5,
   "metadata": {},
   "outputs": [],
   "source": [
    "def distribute_samples(root, folder):\n",
    "    for subdir, dirs, files in os.walk(os.path.join(root, folder)):\n",
    "        for i, sample in enumerate(files):\n",
    "            os.makedirs(os.path.join(root, folder + \".\" + str(i + 1)))\n",
    "            shutil.move(os.path.join(root, folder, sample), os.path.join(root, folder + \".\" + str(i + 1), sample))\n",
    "        break\n",
    "        shutil.rmtree(os.path.join(root, folder))\n",
    "# distribute_samples(data_dir, \"Oprah\")"
   ]
  },
  {
   "cell_type": "code",
   "execution_count": 6,
   "metadata": {},
   "outputs": [],
   "source": [
    "# cleanup_merged(data_dir)\n",
    "cleanup_split(data_dir)\n",
    "run_preprocess(data_dir, str(audio_len), str(window_size))"
   ]
  },
  {
   "cell_type": "code",
   "execution_count": 13,
   "metadata": {},
   "outputs": [
    {
     "name": "stdout",
     "output_type": "stream",
     "text": [
      "BillGates.1\n",
      "BillGates.2\n",
      "BillGates.3\n",
      "BillGates.4\n",
      "BillGates.5\n",
      "Blaha.1\n",
      "Blaha.2\n",
      "Blaha.3\n",
      "Blaha.4\n",
      "Christen.1\n",
      "Christen.2\n",
      "Christen.3\n",
      "Christen.4\n",
      "Christen.5\n",
      "Christen.6\n",
      "Christen.7\n",
      "Christen.8\n",
      "Christen.9\n",
      "Clinton.1\n",
      "Clinton.2\n",
      "Clinton.3\n",
      "Clinton.4\n",
      "Clinton.5\n",
      "Jamie.1\n",
      "Jamie.2\n",
      "Jamie.3\n",
      "Jamie.4\n",
      "Jamie.5\n",
      "Jamie.6\n",
      "minutephysics.1\n",
      "minutephysics.2\n",
      "minutephysics.3\n",
      "minutephysics.4\n",
      "minutephysics.5\n",
      "minutephysics.6\n",
      "Obama.1\n",
      "Obama.2\n",
      "Obama.3\n",
      "Obama.5\n",
      "OChem.1\n",
      "OChem.2\n",
      "OChem.3\n",
      "OChem.4\n",
      "OChem.5\n",
      "OChem.6\n",
      "OChem.7\n",
      "OChem.8\n",
      "Oprah.1\n",
      "Oprah.2\n",
      "Oprah.3\n",
      "Oprah.4\n",
      "Oprah.5\n",
      "Oprah.6\n",
      "Oprah.7\n",
      "Patrick.1\n",
      "Patrick.10\n",
      "Patrick.2\n",
      "Patrick.3\n",
      "Patrick.4\n",
      "Patrick.5\n",
      "Patrick.6\n",
      "Patrick.7\n",
      "Patrick.8\n",
      "Patrick.9\n",
      "Sriraj.1\n",
      "Sriraj.2\n",
      "Sriraj.3\n",
      "Sriraj.4\n",
      "Sriraj.5\n",
      "Sriraj.6\n",
      "standupmaths.1\n",
      "standupmaths.2\n",
      "standupmaths.3\n",
      "standupmaths.4\n",
      "standupmaths.5\n",
      "standupmaths.6\n",
      "standupmaths.7\n",
      "standupmaths.8\n",
      "Sudeep.1\n",
      "Sudeep.2\n",
      "Sudeep.3\n",
      "Sudeep.4\n",
      "Trudeau.1\n",
      "Trudeau.2\n",
      "Trudeau.3\n",
      "Trudeau.4\n",
      "Trudeau.5\n",
      "Trump.1\n",
      "Trump.2\n",
      "Trump.3\n",
      "Trump.4\n",
      "Tushar.1\n",
      "Tushar.2\n",
      "Tushar.3\n",
      "Tushar.4\n",
      "Tushar.5\n",
      "Tushar.6\n",
      "Tushar.7\n",
      "Upendra.1\n",
      "Upendra.2\n",
      "Upendra.3\n",
      "Upendra.4\n"
     ]
    }
   ],
   "source": [
    "X, y = load_features(data_dir, str(window_size))"
   ]
  },
  {
   "cell_type": "markdown",
   "metadata": {},
   "source": [
    "#### Build the model"
   ]
  },
  {
   "cell_type": "code",
   "execution_count": 22,
   "metadata": {},
   "outputs": [],
   "source": [
    "import keras\n",
    "from keras.layers import Activation, Conv2D, Dense, Dropout, Flatten, MaxPooling2D\n",
    "from keras.models import Sequential\n",
    "\n",
    "model = Sequential()\n",
    "model.add(Conv2D(32, kernel_size=(2, 2), activation='relu',\n",
    "                 input_shape=(n_mfcc, n_mfcc_width, 1)))\n",
    "model.add(MaxPooling2D(pool_size=(2, 2)))\n",
    "model.add(Activation('relu'))\n",
    "model.add(Dropout(0.25))\n",
    "\n",
    "model.add(Conv2D(32, kernel_size=(2, 2), padding='same'))\n",
    "model.add(Activation('relu'))\n",
    "model.add(MaxPooling2D(pool_size=(2, 2)))\n",
    "model.add(Dense(n_mfcc/2, activation='relu'))\n",
    "model.add(Dropout(0.25))\n",
    "model.add(Flatten())\n",
    "model.add(Dense(58, activation='softmax'))\n",
    "\n",
    "# initiate RMSprop optimizer\n",
    "opt = keras.optimizers.rmsprop(lr=0.0001, decay=1e-6)\n",
    "\n",
    "# Let's train the model using RMSprop\n",
    "model.compile(loss='categorical_crossentropy',\n",
    "              optimizer=opt,\n",
    "              metrics=['accuracy'])"
   ]
  },
  {
   "cell_type": "markdown",
   "metadata": {},
   "source": [
    "#### Load pretrained model weights"
   ]
  },
  {
   "cell_type": "code",
   "execution_count": 23,
   "metadata": {},
   "outputs": [],
   "source": [
    "# model.load_weights('neural-net-weights/NN_Weights_1203_3/spect_model_weights_1203_3_4.h5')\n",
    "model.load_weights('mfcc_model_weights_' + str(audio_len_nn) + '_' + str(window_size) + '-' + str(n_mfcc) + '_' + str(1) + '.h5')"
   ]
  },
  {
   "cell_type": "code",
   "execution_count": 25,
   "metadata": {},
   "outputs": [],
   "source": [
    "from keras.models import Model\n",
    "\n",
    "transfer_model = Model(inputs = model.input, outputs=model.get_layer('flatten_3').output)"
   ]
  },
  {
   "cell_type": "markdown",
   "metadata": {},
   "source": [
    "#### Load spectrograms as matrices"
   ]
  },
  {
   "cell_type": "code",
   "execution_count": 26,
   "metadata": {},
   "outputs": [],
   "source": [
    "X = np.dstack(X)\n",
    "\n",
    "X = np.swapaxes(X, 0, 1)\n",
    "X = np.swapaxes(X, 0, 2)\n",
    "\n",
    "X = X.reshape(X.shape[0], X.shape[1], X.shape[2], 1)"
   ]
  },
  {
   "cell_type": "code",
   "execution_count": 27,
   "metadata": {},
   "outputs": [],
   "source": [
    "import numpy as np\n",
    "\n",
    "X_SVM = []\n",
    "for sample in range(len(X)):\n",
    "    x_exp = np.expand_dims(X[sample], axis = 0)\n",
    "    transfer_features = transfer_model.predict(x_exp)\n",
    "    X_SVM.append(transfer_features)"
   ]
  },
  {
   "cell_type": "code",
   "execution_count": 28,
   "metadata": {},
   "outputs": [],
   "source": [
    "from sklearn.model_selection import train_test_split\n",
    "\n",
    "X_train, X_test, y_train, y_test = train_test_split(X_SVM, y, test_size=0.25, random_state=42)"
   ]
  },
  {
   "cell_type": "markdown",
   "metadata": {},
   "source": [
    "#### Encode the inputs"
   ]
  },
  {
   "cell_type": "code",
   "execution_count": 29,
   "metadata": {},
   "outputs": [],
   "source": [
    "import keras\n",
    "from sklearn.preprocessing import LabelEncoder\n",
    "from keras.utils import np_utils\n",
    "\n",
    "l_enc = LabelEncoder()\n",
    "l_enc.fit(y_train)\n",
    "y_train_norm = l_enc.transform(y_train)\n",
    "\n",
    "l_enc.fit(y_test)\n",
    "y_test_norm = l_enc.transform(y_test)"
   ]
  },
  {
   "cell_type": "markdown",
   "metadata": {},
   "source": [
    "#### Remove unnecessary variables from memory (To clear memory)"
   ]
  },
  {
   "cell_type": "code",
   "execution_count": 30,
   "metadata": {},
   "outputs": [],
   "source": [
    "from sklearn import svm\n",
    "\n",
    "# model_SVM = svm.SVC(kernel='rbf', class_weight='balanced', C = 10.0, gamma = 0.00001)\n",
    "model_SVM = svm.SVC(kernel='linear', class_weight='balanced')\n",
    "X_train_SVM = np.array(X_train).reshape(len(X_train), -1)"
   ]
  },
  {
   "cell_type": "code",
   "execution_count": 31,
   "metadata": {},
   "outputs": [
    {
     "data": {
      "text/plain": [
       "SVC(C=1.0, cache_size=200, class_weight='balanced', coef0=0.0,\n",
       "  decision_function_shape='ovr', degree=3, gamma='auto', kernel='linear',\n",
       "  max_iter=-1, probability=False, random_state=None, shrinking=True,\n",
       "  tol=0.001, verbose=False)"
      ]
     },
     "execution_count": 31,
     "metadata": {},
     "output_type": "execute_result"
    }
   ],
   "source": [
    "model_SVM.fit(X_train_SVM, y_train_norm)"
   ]
  },
  {
   "cell_type": "code",
   "execution_count": 32,
   "metadata": {},
   "outputs": [
    {
     "data": {
      "text/plain": [
       "0.47619047619047616"
      ]
     },
     "execution_count": 32,
     "metadata": {},
     "output_type": "execute_result"
    }
   ],
   "source": [
    "from sklearn.metrics import accuracy_score\n",
    "\n",
    "X_test = np.array(X_test).reshape(len(X_test), -1)\n",
    "accuracy_score(y_test_norm, model_SVM.predict(X_test))"
   ]
  },
  {
   "cell_type": "code",
   "execution_count": null,
   "metadata": {},
   "outputs": [],
   "source": []
  },
  {
   "cell_type": "code",
   "execution_count": null,
   "metadata": {},
   "outputs": [],
   "source": []
  },
  {
   "cell_type": "code",
   "execution_count": null,
   "metadata": {},
   "outputs": [],
   "source": [
    "from sklearn.model_selection import StratifiedShuffleSplit\n",
    "from sklearn.model_selection import GridSearchCV\n",
    "\n",
    "X_test_SVM = np.array(X_test).reshape(len(X_test), -1)\n",
    "\n",
    "C_range = np.logspace(-2, 10, 13)\n",
    "gamma_range = np.logspace(-9, 3, 13)\n",
    "param_grid = dict(gamma=gamma_range, C=C_range)\n",
    "cv = StratifiedShuffleSplit(n_splits=5, test_size=0.25, random_state=64)\n",
    "grid = GridSearchCV(svm.SVC(kernel='linear', class_weight='balanced'), param_grid=param_grid, cv=cv)\n",
    "grid.fit(np.concatenate((X_train_SVM,X_test_SVM), axis = 0), np.concatenate((y_train_norm, y_test_norm)))"
   ]
  },
  {
   "cell_type": "code",
   "execution_count": null,
   "metadata": {},
   "outputs": [],
   "source": [
    "print(\"The best parameters are %s with a score of %0.2f\"\n",
    "      % (grid.best_params_, grid.best_score_))"
   ]
  },
  {
   "cell_type": "code",
   "execution_count": null,
   "metadata": {},
   "outputs": [],
   "source": []
  }
 ],
 "metadata": {
  "kernelspec": {
   "display_name": "Python 2",
   "language": "python",
   "name": "python2"
  },
  "language_info": {
   "codemirror_mode": {
    "name": "ipython",
    "version": 2
   },
   "file_extension": ".py",
   "mimetype": "text/x-python",
   "name": "python",
   "nbconvert_exporter": "python",
   "pygments_lexer": "ipython2",
   "version": "2.7.14"
  }
 },
 "nbformat": 4,
 "nbformat_minor": 2
}
