{
 "cells": [
  {
   "cell_type": "markdown",
   "metadata": {},
   "source": [
    "Steps to Perform for MFCC Transfer Learning\n",
    "Step 1: Load the files and convert to mfcc"
   ]
  },
  {
   "cell_type": "code",
   "execution_count": 1,
   "metadata": {},
   "outputs": [],
   "source": [
    "import sys\n",
    "sys.path.insert(0, '../model')"
   ]
  },
  {
   "cell_type": "code",
   "execution_count": 2,
   "metadata": {},
   "outputs": [
    {
     "name": "stderr",
     "output_type": "stream",
     "text": [
      "Using TensorFlow backend.\n"
     ]
    }
   ],
   "source": [
    "import os\n",
    "\n",
    "import matplotlib.pyplot as plt\n",
    "from sklearn.model_selection import train_test_split\n",
    "from keras.utils import plot_model\n",
    "\n",
    "from model_mfcc import *\n",
    "from utils import *"
   ]
  },
  {
   "cell_type": "code",
   "execution_count": 3,
   "metadata": {},
   "outputs": [],
   "source": [
    "n_mfcc = 128\n",
    "n_mfcc_width = 430\n",
    "window_size = 10\n",
    "audio_len = 90\n",
    "data_dir = os.path.join('..', 'audio-train-new')\n",
    "mfcc_shape = (n_mfcc, n_mfcc_width, 1)\n",
    "n_samples = 112"
   ]
  },
  {
   "cell_type": "code",
   "execution_count": 4,
   "metadata": {},
   "outputs": [],
   "source": [
    "def plot_model(model):\n",
    "    plot_model(model, to_file='mfcc_model.png', show_shapes=True)\n",
    "    \n",
    "def plot_val_acc(train_result):\n",
    "    plt.style.use('dark_background')\n",
    "    plt.plot(train_result.history['acc'], color=\"#5599FF\")\n",
    "    plt.plot(train_result.history['val_acc'], color=\"#55FF99\")\n",
    "    plt.title('model accuracy')\n",
    "    plt.ylabel('accuracy')\n",
    "    plt.xlabel('epoch')\n",
    "    plt.legend(['train', 'test'], loc='upper left')\n",
    "    plt.show()"
   ]
  },
  {
   "cell_type": "code",
   "execution_count": 5,
   "metadata": {},
   "outputs": [],
   "source": [
    "def main():\n",
    "    # Generate MFCC features and save them on the disk.\n",
    "    print(\"Running preprocess..\")\n",
    "    run_preprocess(data_dir, str(audio_len), str(window_size), n_mfcc, n_mfcc_width)\n",
    "    \n",
    "    # Load saved spectrograms\n",
    "    print(\"Loading MFCC data..\")\n",
    "    X, y = load_features(data_dir, str(audio_len), str(window_size), n_mfcc, n_mfcc_width)\n",
    "        \n",
    "    # Reshape and one hot encode the data\n",
    "    X = X.reshape(X.shape[0], X.shape[1], X.shape[2], 1)\n",
    "    y_norm = one_hot_encode(y)\n",
    "    \n",
    "    # Split the samples and training and testing sets\n",
    "    X_train, X_test, y_train, y_test = train_test_split(X, y_norm, test_size=0.3, random_state=64)\n",
    "    \n",
    "    # Build the CNN\n",
    "    print(\"Building the model..\")\n",
    "    model = build_mfcc_model(mfcc_shape, n_mfcc / 2, n_samples)\n",
    "    \n",
    "    # Train the model.\n",
    "    train_result = model.fit(np.array(X_train), y_train,\n",
    "          batch_size=16,\n",
    "          epochs=30,\n",
    "          verbose=1,\n",
    "          shuffle = True,\n",
    "         validation_data=(np.array(X_test), y_test))\n",
    "    \n",
    "    # Save the trained model weights\n",
    "    model.save_weights(os.path.join('..', 'neural-net-weights', \\\n",
    "                                        'mfcc_model_weights_' + '.h5'))\n",
    "    \n",
    "    print(\"Successfully completed.\")\n",
    "\n",
    "if __name__ == \"__main__\":\n",
    "    main()"
   ]
  }
 ],
 "metadata": {
  "kernelspec": {
   "display_name": "Python 2",
   "language": "python",
   "name": "python2"
  },
  "language_info": {
   "codemirror_mode": {
    "name": "ipython",
    "version": 2
   },
   "file_extension": ".py",
   "mimetype": "text/x-python",
   "name": "python",
   "nbconvert_exporter": "python",
   "pygments_lexer": "ipython2",
   "version": "2.7.14"
  }
 },
 "nbformat": 4,
 "nbformat_minor": 2
}
