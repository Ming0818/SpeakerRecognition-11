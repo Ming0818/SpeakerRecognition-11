{
 "cells": [
  {
   "cell_type": "markdown",
   "metadata": {},
   "source": [
    "### MFCC based Transfer Learning"
   ]
  },
  {
   "cell_type": "code",
   "execution_count": 1,
   "metadata": {},
   "outputs": [],
   "source": [
    "import sys\n",
    "sys.path.insert(0, '../model')"
   ]
  },
  {
   "cell_type": "code",
   "execution_count": 2,
   "metadata": {},
   "outputs": [
    {
     "name": "stderr",
     "output_type": "stream",
     "text": [
      "Using TensorFlow backend.\n"
     ]
    }
   ],
   "source": [
    "import os\n",
    "\n",
    "from sklearn.model_selection import train_test_split\n",
    "\n",
    "from model_mfcc import *\n",
    "from utils import *"
   ]
  },
  {
   "cell_type": "code",
   "execution_count": 3,
   "metadata": {},
   "outputs": [],
   "source": [
    "n_mfcc = 128\n",
    "n_mfcc_width = 430\n",
    "window_size = 10\n",
    "audio_len = 600\n",
    "data_dir = os.path.join('..', 'audio-train-new')\n",
    "mfcc_shape = (n_mfcc, n_mfcc_width, 1)\n",
    "n_samples = 120"
   ]
  },
  {
   "cell_type": "code",
   "execution_count": 5,
   "metadata": {},
   "outputs": [
    {
     "name": "stdout",
     "output_type": "stream",
     "text": [
      "Running preprocess..\n",
      "Loading MFCC data..\n",
      "Building the model..\n",
      "Train on 3491 samples, validate on 1497 samples\n",
      "Epoch 1/30\n",
      "3491/3491 [==============================] - 234s 67ms/step - loss: 15.9220 - acc: 0.0083 - val_loss: 15.9570 - val_acc: 0.0080\n",
      "Epoch 2/30\n",
      "3491/3491 [==============================] - 243s 70ms/step - loss: 15.8818 - acc: 0.0089 - val_loss: 15.7198 - val_acc: 0.0180\n",
      "Epoch 3/30\n",
      "3491/3491 [==============================] - 238s 68ms/step - loss: 12.5596 - acc: 0.0584 - val_loss: 5.6695 - val_acc: 0.2178\n",
      "Epoch 4/30\n",
      "3491/3491 [==============================] - 238s 68ms/step - loss: 3.8193 - acc: 0.5683 - val_loss: 3.6081 - val_acc: 0.4916\n",
      "Epoch 5/30\n",
      "3491/3491 [==============================] - 239s 68ms/step - loss: 2.0611 - acc: 0.8447 - val_loss: 2.6679 - val_acc: 0.6119\n",
      "Epoch 6/30\n",
      "3491/3491 [==============================] - 241s 69ms/step - loss: 1.3889 - acc: 0.8934 - val_loss: 2.0764 - val_acc: 0.7174\n",
      "Epoch 7/30\n",
      "3491/3491 [==============================] - 241s 69ms/step - loss: 1.2605 - acc: 0.9207 - val_loss: 1.9342 - val_acc: 0.7488\n",
      "Epoch 8/30\n",
      "3491/3491 [==============================] - 250s 72ms/step - loss: 1.1200 - acc: 0.9264 - val_loss: 1.4530 - val_acc: 0.7689\n",
      "Epoch 9/30\n",
      "3491/3491 [==============================] - 244s 70ms/step - loss: 0.6940 - acc: 0.9513 - val_loss: 1.0094 - val_acc: 0.8397\n",
      "Epoch 10/30\n",
      "3491/3491 [==============================] - 243s 70ms/step - loss: 0.5743 - acc: 0.9625 - val_loss: 0.9729 - val_acc: 0.8611\n",
      "Epoch 11/30\n",
      "3491/3491 [==============================] - 242s 69ms/step - loss: 0.5672 - acc: 0.9636 - val_loss: 0.9456 - val_acc: 0.8624\n",
      "Epoch 12/30\n",
      "3491/3491 [==============================] - 241s 69ms/step - loss: 0.5633 - acc: 0.9651 - val_loss: 0.8426 - val_acc: 0.8811\n",
      "Epoch 13/30\n",
      "3491/3491 [==============================] - 238s 68ms/step - loss: 0.5633 - acc: 0.9651 - val_loss: 0.8205 - val_acc: 0.8851\n",
      "Epoch 14/30\n",
      "3491/3491 [==============================] - 231s 66ms/step - loss: 0.5633 - acc: 0.9651 - val_loss: 1.0346 - val_acc: 0.8637\n",
      "Epoch 15/30\n",
      "3491/3491 [==============================] - 236s 68ms/step - loss: 0.5633 - acc: 0.9651 - val_loss: 0.8970 - val_acc: 0.8764\n",
      "Epoch 16/30\n",
      "3491/3491 [==============================] - 237s 68ms/step - loss: 0.5636 - acc: 0.9648 - val_loss: 0.9329 - val_acc: 0.8764\n",
      "Epoch 17/30\n",
      "3491/3491 [==============================] - 241s 69ms/step - loss: 0.5633 - acc: 0.9651 - val_loss: 0.9655 - val_acc: 0.8771\n",
      "Epoch 18/30\n",
      "3491/3491 [==============================] - 246s 70ms/step - loss: 0.5633 - acc: 0.9651 - val_loss: 0.9894 - val_acc: 0.8731\n",
      "Epoch 19/30\n",
      "3491/3491 [==============================] - 230s 66ms/step - loss: 0.5633 - acc: 0.9651 - val_loss: 0.9893 - val_acc: 0.8778\n",
      "Epoch 20/30\n",
      "3491/3491 [==============================] - 239s 68ms/step - loss: 0.5633 - acc: 0.9651 - val_loss: 0.9855 - val_acc: 0.8758\n",
      "Epoch 21/30\n",
      "3491/3491 [==============================] - 248s 71ms/step - loss: 0.5633 - acc: 0.9651 - val_loss: 0.9565 - val_acc: 0.8791\n",
      "Epoch 22/30\n",
      "3491/3491 [==============================] - 228s 65ms/step - loss: 0.5633 - acc: 0.9651 - val_loss: 0.9523 - val_acc: 0.8798\n",
      "Epoch 23/30\n",
      "3491/3491 [==============================] - 224s 64ms/step - loss: 0.5633 - acc: 0.9651 - val_loss: 0.9224 - val_acc: 0.8851\n",
      "Epoch 24/30\n",
      "3491/3491 [==============================] - 222s 64ms/step - loss: 0.5633 - acc: 0.9651 - val_loss: 0.8503 - val_acc: 0.8978\n",
      "Epoch 25/30\n",
      "3491/3491 [==============================] - 235s 67ms/step - loss: 0.5633 - acc: 0.9651 - val_loss: 0.9097 - val_acc: 0.8891\n",
      "Epoch 26/30\n",
      "3491/3491 [==============================] - 223s 64ms/step - loss: 0.5633 - acc: 0.9651 - val_loss: 0.8980 - val_acc: 0.8878\n",
      "Epoch 27/30\n",
      "3491/3491 [==============================] - 233s 67ms/step - loss: 0.5633 - acc: 0.9651 - val_loss: 0.8873 - val_acc: 0.8931\n",
      "Epoch 28/30\n",
      "3491/3491 [==============================] - 222s 64ms/step - loss: 0.5633 - acc: 0.9651 - val_loss: 0.8676 - val_acc: 0.8971\n",
      "Epoch 29/30\n",
      "3491/3491 [==============================] - 233s 67ms/step - loss: 0.5633 - acc: 0.9651 - val_loss: 0.8668 - val_acc: 0.8985\n",
      "Epoch 30/30\n",
      "3491/3491 [==============================] - 218s 62ms/step - loss: 0.5633 - acc: 0.9651 - val_loss: 0.8660 - val_acc: 0.8978\n",
      "Successfully completed.\n"
     ]
    }
   ],
   "source": [
    "# Generate MFCC features and save them on the disk.\n",
    "print(\"Running preprocess..\")\n",
    "run_preprocess_mfcc(data_dir, str(audio_len), str(window_size), n_mfcc, n_mfcc_width)\n",
    "\n",
    "# Load saved spectrograms\n",
    "print(\"Loading MFCC data..\")\n",
    "X, y = load_features_mfcc(data_dir, str(audio_len), str(window_size), n_mfcc, n_mfcc_width)\n",
    "\n",
    "# Reshape and one hot encode the data\n",
    "X = X.reshape(X.shape[0], X.shape[1], X.shape[2], 1)\n",
    "y_norm = one_hot_encode(y)\n",
    "\n",
    "# Split the samples and training and testing sets\n",
    "X_train, X_test, y_train, y_test = train_test_split(X, y_norm, test_size=0.3, random_state=64)\n",
    "\n",
    "# Build the CNN\n",
    "print(\"Building the model..\")\n",
    "model = build_model_mfcc(mfcc_shape, n_mfcc / 2, n_samples)\n",
    "\n",
    "# Train the model.\n",
    "train_result = model.fit(np.array(X_train), y_train,\n",
    "      batch_size=16,\n",
    "      epochs=30,\n",
    "      verbose=1,\n",
    "      shuffle = True,\n",
    "     validation_data=(np.array(X_test), y_test))\n",
    "\n",
    "# Save the trained model weights\n",
    "model.save_weights(os.path.join('..', 'neural-net-weights', \\\n",
    "                                'mfcc_model_weights_' + str(n_mfcc) + '_' + \\\n",
    "                                    str(audio_len) + '_' + str(window_size) + '.h5'))\n",
    "\n",
    "print(\"Successfully completed.\")"
   ]
  }
 ],
 "metadata": {
  "kernelspec": {
   "display_name": "Python 2",
   "language": "python",
   "name": "python2"
  },
  "language_info": {
   "codemirror_mode": {
    "name": "ipython",
    "version": 2
   },
   "file_extension": ".py",
   "mimetype": "text/x-python",
   "name": "python",
   "nbconvert_exporter": "python",
   "pygments_lexer": "ipython2",
   "version": "2.7.14"
  }
 },
 "nbformat": 4,
 "nbformat_minor": 2
}
