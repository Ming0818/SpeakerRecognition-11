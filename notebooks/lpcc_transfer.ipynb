{
 "cells": [
  {
   "cell_type": "markdown",
   "metadata": {},
   "source": [
    "### Spectrogram based Transfer Learning"
   ]
  },
  {
   "cell_type": "code",
   "execution_count": 59,
   "metadata": {},
   "outputs": [],
   "source": [
    "window_size = 10\n",
    "audio_len = 60\n",
    "audio_len_nn = 150\n",
    "data_dir = 'audio-train-transfer'\n",
    "n_samples = 112"
   ]
  },
  {
   "cell_type": "markdown",
   "metadata": {},
   "source": [
    "#### Data cleanup"
   ]
  },
  {
   "cell_type": "code",
   "execution_count": 2,
   "metadata": {},
   "outputs": [],
   "source": [
    "import matplotlib.pyplot as plt\n",
    "import os\n",
    "import subprocess\n",
    "\n",
    "def run_preprocess(root, length, split):\n",
    "    for subdir, dirs, files in os.walk(root):\n",
    "        for directory in dirs:\n",
    "            subprocess.call([\"./preprocess_transfer\", os.path.join(subdir, directory), length, split])\n",
    "        break"
   ]
  },
  {
   "cell_type": "code",
   "execution_count": 29,
   "metadata": {},
   "outputs": [],
   "source": [
    "import numpy as np\n",
    "import librosa as lp\n",
    "from scikits.talkbox import lpc\n",
    "\n",
    "\n",
    "def convert_to_lpc(filename,number_of_coefficients):\n",
    "    wave, sr = lp.load(filename, mono=True, sr=None)\n",
    "    lpc_signal=lpc(wave,number_of_coefficients)\n",
    "#     lpcc_signal=lpcc(lpc_signal[0],lpc_signal[1])\n",
    "    return np.hstack((lpc_signal[0],lpc_signal[1],lpc_signal[2]))\n",
    "\n",
    "def load_features(root, split):\n",
    "    lpcc_data = []\n",
    "    lpcc_label = []\n",
    "    for subdir, dirs, files in os.walk(root):\n",
    "        for directory in dirs:\n",
    "            file_path = os.path.join(subdir, directory, \"split\", split, \"wav\")\n",
    "            if len(directory.split(\".\")) != 2:\n",
    "                continue\n",
    "            for filename in os.listdir(file_path):\n",
    "                lpcc = convert_to_lpc(os.path.join(file_path, filename), 49)\n",
    "                lpcc_data.append(lpcc)\n",
    "                lpcc_label.append(directory.split('.')[0])\n",
    "        break\n",
    "    return lpcc_data, lpcc_label"
   ]
  },
  {
   "cell_type": "code",
   "execution_count": 5,
   "metadata": {},
   "outputs": [],
   "source": [
    "import shutil\n",
    "import glob\n",
    "\n",
    "def cleanup_split(root):\n",
    "    for subdir, dirs, files in os.walk(root):\n",
    "        for directory in dirs:\n",
    "            shutil.rmtree(os.path.join(subdir, directory, \"split\"), ignore_errors = True)\n",
    "        break\n",
    "\n",
    "def cleanup_merged(root):\n",
    "    for subdir, dirs, files in os.walk(root):\n",
    "        for directory in dirs:\n",
    "            for f in glob.glob(os.path.join(subdir, directory, \"*.wav\")):\n",
    "                os.remove(f)\n",
    "        break"
   ]
  },
  {
   "cell_type": "code",
   "execution_count": 5,
   "metadata": {},
   "outputs": [],
   "source": [
    "def distribute_samples(root, folder):\n",
    "    for subdir, dirs, files in os.walk(os.path.join(root, folder)):\n",
    "        for i, sample in enumerate(files):\n",
    "            os.makedirs(os.path.join(root, folder + \".\" + str(i + 1)))\n",
    "            shutil.move(os.path.join(root, folder, sample), os.path.join(root, folder + \".\" + str(i + 1), sample))\n",
    "        break\n",
    "        shutil.rmtree(os.path.join(root, folder))\n",
    "# distribute_samples(data_dir, \"Oprah\")"
   ]
  },
  {
   "cell_type": "code",
   "execution_count": 60,
   "metadata": {},
   "outputs": [],
   "source": [
    "# cleanup_merged(data_dir)\n",
    "cleanup_split(data_dir)\n",
    "run_preprocess(data_dir, str(audio_len), str(window_size))"
   ]
  },
  {
   "cell_type": "code",
   "execution_count": 61,
   "metadata": {},
   "outputs": [],
   "source": [
    "X, y = load_features(data_dir, str(window_size))"
   ]
  },
  {
   "cell_type": "markdown",
   "metadata": {},
   "source": [
    "#### Build the model"
   ]
  },
  {
   "cell_type": "code",
   "execution_count": 22,
   "metadata": {},
   "outputs": [],
   "source": [
    "import keras\n",
    "from keras.layers import Activation, Conv2D, Dense, Dropout, Flatten, MaxPooling2D\n",
    "from keras.models import Sequential\n",
    "\n",
    "model = Sequential()\n",
    "model.add(Conv2D(32, kernel_size=(2, 2), activation='relu',\n",
    "                 input_shape=(10, 10, 1)))\n",
    "model.add(MaxPooling2D(pool_size=(2, 2)))\n",
    "model.add(Activation('relu'))\n",
    "model.add(Dropout(0.25))\n",
    "\n",
    "model.add(Conv2D(32, kernel_size=(2, 2), padding='same'))\n",
    "model.add(Activation('relu'))\n",
    "model.add(MaxPooling2D(pool_size=(2, 2)))\n",
    "model.add(Dense(64, activation='relu'))\n",
    "model.add(Dropout(0.25))\n",
    "model.add(Flatten())\n",
    "model.add(Dense(n_samples, activation='softmax'))\n",
    "\n",
    "# initiate RMSprop optimizer\n",
    "opt = keras.optimizers.rmsprop(lr=0.0001, decay=1e-6)\n",
    "\n",
    "# Let's train the model using RMSprop\n",
    "model.compile(loss='categorical_crossentropy',\n",
    "              optimizer=opt,\n",
    "              metrics=['accuracy'])"
   ]
  },
  {
   "cell_type": "markdown",
   "metadata": {},
   "source": [
    "#### Load pretrained model weights"
   ]
  },
  {
   "cell_type": "code",
   "execution_count": 23,
   "metadata": {},
   "outputs": [],
   "source": [
    "# model.load_weights('neural-net-weights/NN_Weights_1203_3/spect_model_weights_1203_3_4.h5')\n",
    "model.load_weights('lpc_model_weights_' + str(audio_len_nn) + '_' + str(window_size) + '-' + str(1) + '.h5')"
   ]
  },
  {
   "cell_type": "code",
   "execution_count": 24,
   "metadata": {},
   "outputs": [],
   "source": [
    "from keras.models import Model\n",
    "\n",
    "transfer_model = Model(inputs = model.input, outputs=model.get_layer('flatten_3').output)"
   ]
  },
  {
   "cell_type": "markdown",
   "metadata": {},
   "source": [
    "#### Load spectrograms as matrices"
   ]
  },
  {
   "cell_type": "code",
   "execution_count": 62,
   "metadata": {},
   "outputs": [],
   "source": [
    "X = np.dstack(X)\n",
    "\n",
    "X = np.swapaxes(X, 0, 1)\n",
    "X = np.swapaxes(X, 0, 2)\n",
    "X = np.swapaxes(X, 1, 2)\n",
    "# print X_1.shape\n",
    "# print X_2.shape\n",
    "# print X_3.shape\n",
    "# print X_4.shape\n",
    "\n",
    "X = X.reshape(X.shape[0], 10, -1, 1)\n",
    "# print X.shape\n",
    "\n",
    "# X = X.reshape(X.shape[0], X.shape[1], X.shape[2], 1)"
   ]
  },
  {
   "cell_type": "code",
   "execution_count": 63,
   "metadata": {},
   "outputs": [],
   "source": [
    "import numpy as np\n",
    "\n",
    "X_SVM = []\n",
    "for sample in range(len(X)):\n",
    "    x_exp = np.expand_dims(X[sample], axis = 0)\n",
    "    transfer_features = transfer_model.predict(x_exp)\n",
    "    X_SVM.append(transfer_features)"
   ]
  },
  {
   "cell_type": "code",
   "execution_count": 64,
   "metadata": {},
   "outputs": [],
   "source": [
    "from sklearn.model_selection import train_test_split\n",
    "\n",
    "X_train, X_test, y_train, y_test = train_test_split(X_SVM, y, test_size=0.25, random_state=42)"
   ]
  },
  {
   "cell_type": "markdown",
   "metadata": {},
   "source": [
    "#### Encode the inputs"
   ]
  },
  {
   "cell_type": "code",
   "execution_count": 65,
   "metadata": {},
   "outputs": [],
   "source": [
    "import keras\n",
    "from sklearn.preprocessing import LabelEncoder\n",
    "from keras.utils import np_utils\n",
    "\n",
    "l_enc = LabelEncoder()\n",
    "l_enc.fit(y_train)\n",
    "y_train_norm = l_enc.transform(y_train)\n",
    "\n",
    "l_enc.fit(y_test)\n",
    "y_test_norm = l_enc.transform(y_test)"
   ]
  },
  {
   "cell_type": "markdown",
   "metadata": {},
   "source": [
    "#### Remove unnecessary variables from memory (To clear memory)"
   ]
  },
  {
   "cell_type": "code",
   "execution_count": 66,
   "metadata": {},
   "outputs": [],
   "source": [
    "from sklearn import svm\n",
    "\n",
    "# model_SVM = svm.SVC(kernel='rbf', class_weight='balanced', C = 10.0, gamma = 0.00001)\n",
    "model_SVM = svm.SVC(kernel='linear', class_weight='balanced')\n",
    "X_train_SVM = np.array(X_train).reshape(len(X_train), -1)"
   ]
  },
  {
   "cell_type": "code",
   "execution_count": 67,
   "metadata": {},
   "outputs": [
    {
     "data": {
      "text/plain": [
       "SVC(C=1.0, cache_size=200, class_weight='balanced', coef0=0.0,\n",
       "  decision_function_shape='ovr', degree=3, gamma='auto', kernel='linear',\n",
       "  max_iter=-1, probability=False, random_state=None, shrinking=True,\n",
       "  tol=0.001, verbose=False)"
      ]
     },
     "execution_count": 67,
     "metadata": {},
     "output_type": "execute_result"
    }
   ],
   "source": [
    "model_SVM.fit(X_train_SVM, y_train_norm)"
   ]
  },
  {
   "cell_type": "code",
   "execution_count": 68,
   "metadata": {},
   "outputs": [
    {
     "data": {
      "text/plain": [
       "0.71999999999999997"
      ]
     },
     "execution_count": 68,
     "metadata": {},
     "output_type": "execute_result"
    }
   ],
   "source": [
    "from sklearn.metrics import accuracy_score\n",
    "\n",
    "X_test = np.array(X_test).reshape(len(X_test), -1)\n",
    "accuracy_score(y_test_norm, model_SVM.predict(X_test))"
   ]
  },
  {
   "cell_type": "code",
   "execution_count": 54,
   "metadata": {},
   "outputs": [
    {
     "data": {
      "text/plain": [
       "GridSearchCV(cv=StratifiedShuffleSplit(n_splits=5, random_state=64, test_size=0.25,\n",
       "            train_size=None),\n",
       "       error_score='raise',\n",
       "       estimator=SVC(C=1.0, cache_size=200, class_weight='balanced', coef0=0.0,\n",
       "  decision_function_shape='ovr', degree=3, gamma='auto', kernel='linear',\n",
       "  max_iter=-1, probability=False, random_state=None, shrinking=True,\n",
       "  tol=0.001, verbose=False),\n",
       "       fit_params=None, iid=True, n_jobs=1,\n",
       "       param_grid={'C': array([  1.00000e-02,   1.00000e-01,   1.00000e+00,   1.00000e+01,\n",
       "         1.00000e+02,   1.00000e+03,   1.00000e+04,   1.00000e+05,\n",
       "         1.00000e+06,   1.00000e+07,   1.00000e+08,   1.00000e+09,\n",
       "         1.00000e+10]), 'gamma': array([  1.00000e-09,   1.00000e-08,   1.00000e-07,   1.00000e-06,\n",
       "         1.00000e-05,   1.00000e-04,   1.00000e-03,   1.00000e-02,\n",
       "         1.00000e-01,   1.00000e+00,   1.00000e+01,   1.00000e+02,\n",
       "         1.00000e+03])},\n",
       "       pre_dispatch='2*n_jobs', refit=True, return_train_score='warn',\n",
       "       scoring=None, verbose=0)"
      ]
     },
     "execution_count": 54,
     "metadata": {},
     "output_type": "execute_result"
    }
   ],
   "source": [
    "from sklearn.model_selection import StratifiedShuffleSplit\n",
    "from sklearn.model_selection import GridSearchCV\n",
    "\n",
    "X_test_SVM = np.array(X_test).reshape(len(X_test), -1)\n",
    "\n",
    "C_range = np.logspace(-2, 10, 13)\n",
    "gamma_range = np.logspace(-9, 3, 13)\n",
    "param_grid = dict(gamma=gamma_range, C=C_range)\n",
    "cv = StratifiedShuffleSplit(n_splits=5, test_size=0.25, random_state=64)\n",
    "grid = GridSearchCV(svm.SVC(kernel='linear', class_weight='balanced'), param_grid=param_grid, cv=cv)\n",
    "grid.fit(np.concatenate((X_train_SVM,X_test_SVM), axis = 0), np.concatenate((y_train_norm, y_test_norm)))"
   ]
  },
  {
   "cell_type": "code",
   "execution_count": 55,
   "metadata": {},
   "outputs": [
    {
     "name": "stdout",
     "output_type": "stream",
     "text": [
      "The best parameters are {'C': 0.10000000000000001, 'gamma': 1.0000000000000001e-09} with a score of 0.62\n"
     ]
    }
   ],
   "source": [
    "print(\"The best parameters are %s with a score of %0.2f\"\n",
    "      % (grid.best_params_, grid.best_score_))"
   ]
  },
  {
   "cell_type": "code",
   "execution_count": null,
   "metadata": {},
   "outputs": [],
   "source": []
  }
 ],
 "metadata": {
  "kernelspec": {
   "display_name": "Python 2",
   "language": "python",
   "name": "python2"
  },
  "language_info": {
   "codemirror_mode": {
    "name": "ipython",
    "version": 2
   },
   "file_extension": ".py",
   "mimetype": "text/x-python",
   "name": "python",
   "nbconvert_exporter": "python",
   "pygments_lexer": "ipython2",
   "version": "2.7.14"
  }
 },
 "nbformat": 4,
 "nbformat_minor": 2
}
