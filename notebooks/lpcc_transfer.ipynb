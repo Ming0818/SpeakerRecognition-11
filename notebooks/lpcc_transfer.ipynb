{
 "cells": [
  {
   "cell_type": "markdown",
   "metadata": {},
   "source": [
    "### LPCC based Transfer Learning"
   ]
  },
  {
   "cell_type": "code",
   "execution_count": 1,
   "metadata": {},
   "outputs": [],
   "source": [
    "import sys\n",
    "sys.path.insert(0, '../model')"
   ]
  },
  {
   "cell_type": "code",
   "execution_count": 2,
   "metadata": {},
   "outputs": [
    {
     "name": "stderr",
     "output_type": "stream",
     "text": [
      "Using TensorFlow backend.\n"
     ]
    }
   ],
   "source": [
    "import os\n",
    "\n",
    "from keras.models import Model\n",
    "\n",
    "import numpy as np\n",
    "\n",
    "from sklearn.metrics import accuracy_score\n",
    "from sklearn import svm\n",
    "from sklearn.model_selection import train_test_split\n",
    "\n",
    "from sklearn.model_selection import StratifiedShuffleSplit\n",
    "from sklearn.model_selection import GridSearchCV\n",
    "\n",
    "from model_lpcc import *\n",
    "from utils import *"
   ]
  },
  {
   "cell_type": "code",
   "execution_count": 3,
   "metadata": {},
   "outputs": [],
   "source": [
    "n_lpcc = 49 # '(n_lpcc + 1)' must be divisible by 5.\n",
    "window_size = 10\n",
    "audio_len = 30\n",
    "audio_len_nn = 600\n",
    "data_dir = os.path.join('..', 'audio-train-transfer')\n",
    "n_samples = 120\n",
    "lpcc_shape = (10, (n_lpcc + 1) / 5, 1)"
   ]
  },
  {
   "cell_type": "code",
   "execution_count": 4,
   "metadata": {},
   "outputs": [],
   "source": [
    "def learn_nn_features(model, X):\n",
    "    X_SVM = []\n",
    "    for sample in range(len(X)):\n",
    "        x_exp = np.expand_dims(X[sample], axis = 0)\n",
    "        transfer_features = model.predict(x_exp)\n",
    "        X_SVM.append(transfer_features)\n",
    "        return X_SVM\n",
    "\n",
    "def grid_search(X, y):\n",
    "    C_range = np.logspace(-2, 10, 13)\n",
    "    gamma_range = np.logspace(-9, 3, 13)\n",
    "    param_grid = dict(gamma = gamma_range, C = C_range)\n",
    "    cv = StratifiedShuffleSplit(n_splits=5, test_size=0.25, random_state = 64)\n",
    "    grid = GridSearchCV(svm.SVC(kernel='linear', class_weight='balanced'), \\\n",
    "                        param_grid=param_grid, cv=cv)\n",
    "    grid.fit(X, y)\n",
    "    print(\"The best parameters are %s with a score of %0.2f\"\n",
    "          % (grid.best_params_, grid.best_score_))"
   ]
  },
  {
   "cell_type": "code",
   "execution_count": 10,
   "metadata": {},
   "outputs": [
    {
     "name": "stdout",
     "output_type": "stream",
     "text": [
      "Running preprocess\n",
      "Building the model..\n",
      "Loading LPCC features\n",
      "Training the SVM..\n",
      "('SVM Accuracy:', 0.47619047619047616)\n",
      "Successfully completed.\n"
     ]
    }
   ],
   "source": [
    "print(\"Running preprocess\")\n",
    "run_preprocess_lpcc(data_dir, str(audio_len), str(window_size), \\\n",
    "                    n_lpcc, transfer = True)\n",
    "\n",
    "# Build the CNN\n",
    "print(\"Building the model..\")\n",
    "model = build_model_lpcc(lpcc_shape, n_lpcc + 1, n_samples)\n",
    "\n",
    "# Load saved neural network weights.\n",
    "model.load_weights(os.path.join('..', 'neural-net-weights', \\\n",
    "                                'lpcc_model_weights_' + str(n_lpcc) + '_' + \\\n",
    "                                    str(audio_len_nn) + '_' + str(window_size) + '.h5'))\n",
    "\n",
    "# Get the output layer (Flatten layer).\n",
    "transfer_model = Model(inputs = model.input, outputs = model.get_layer('flatten_1').output)\n",
    "\n",
    "# Load saved LPCC coefficients from npy files\n",
    "print(\"Loading LPCC features\")\n",
    "X, y = load_features_lpcc(data_dir, str(audio_len), str(window_size), n_lpcc)\n",
    "\n",
    "# Reshape X to add 4th dimension\n",
    "X = X.reshape(X.shape[0], 10, -1, 1)\n",
    "\n",
    "# Read Flatten layer features from trained neural network.\n",
    "X_SVM = learn_nn_features(transfer_model, X)\n",
    "y_enc = encode(y)\n",
    "\n",
    "# Split into test data\n",
    "X_train, X_test, y_train, y_test = train_test_split(X, y, test_size=0.25, random_state=42)\n",
    "X_train_SVM = np.array(X_train).reshape(len(X_train), -1)\n",
    "\n",
    "# Build a linear SVM model\n",
    "model_SVM = svm.SVC(kernel='linear', class_weight='balanced')\n",
    "\n",
    "# Train the model\n",
    "print(\"Training the SVM..\")\n",
    "model_SVM.fit(X_train_SVM, y_train)\n",
    "\n",
    "# Predict the output\n",
    "X_test = np.array(X_test).reshape(len(X_test), -1)\n",
    "pred_acc = accuracy_score(y_test, model_SVM.predict(X_test))\n",
    "\n",
    "print(\"SVM Accuracy:\", pred_acc)\n",
    "print(\"Successfully completed.\")"
   ]
  }
 ],
 "metadata": {
  "kernelspec": {
   "display_name": "Python 2",
   "language": "python",
   "name": "python2"
  },
  "language_info": {
   "codemirror_mode": {
    "name": "ipython",
    "version": 2
   },
   "file_extension": ".py",
   "mimetype": "text/x-python",
   "name": "python",
   "nbconvert_exporter": "python",
   "pygments_lexer": "ipython2",
   "version": "2.7.14"
  }
 },
 "nbformat": 4,
 "nbformat_minor": 2
}
