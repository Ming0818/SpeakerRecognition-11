{
 "cells": [
  {
   "cell_type": "markdown",
   "metadata": {},
   "source": [
    "### Spectrogram based Transfer Learning"
   ]
  },
  {
   "cell_type": "markdown",
   "metadata": {},
   "source": [
    "#### Data cleanup"
   ]
  },
  {
   "cell_type": "code",
   "execution_count": 1,
   "metadata": {},
   "outputs": [],
   "source": [
    "import matplotlib.pyplot as plt\n",
    "import os\n",
    "import subprocess\n",
    "\n",
    "def run_preprocess(root, length, split):\n",
    "    for subdir, dirs, files in os.walk(root):\n",
    "        for directory in dirs:\n",
    "            subprocess.call([\"./preprocess\", os.path.join(subdir, directory), length, split])\n",
    "        break"
   ]
  },
  {
   "cell_type": "code",
   "execution_count": 2,
   "metadata": {},
   "outputs": [],
   "source": [
    "def load_features(root, split):\n",
    "    spect_data = []\n",
    "    spect_label = []\n",
    "    for subdir, dirs, files in os.walk(root):\n",
    "        for directory in dirs:\n",
    "            file_path = os.path.join(subdir, directory, \"split\", split, \"spect\")\n",
    "            for filename in os.listdir(file_path):\n",
    "                x = plt.imread(os.path.join(file_path, filename))\n",
    "                spect_data.append(x)\n",
    "                spect_label.append(directory)\n",
    "        break\n",
    "    return spect_data, spect_label"
   ]
  },
  {
   "cell_type": "code",
   "execution_count": 3,
   "metadata": {},
   "outputs": [],
   "source": [
    "import shutil\n",
    "\n",
    "def cleanup_split(root):\n",
    "    for subdir, dirs, files in os.walk(root):\n",
    "        for directory in dirs:\n",
    "            shutil.rmtree(os.path.join(subdir, directory, \"split\"), ignore_errors = True)\n",
    "        break"
   ]
  },
  {
   "cell_type": "code",
   "execution_count": 4,
   "metadata": {},
   "outputs": [],
   "source": [
    "def check_data(root, split):\n",
    "    for subdir, dirs, files in os.walk(root, split):\n",
    "        for directory in dirs:\n",
    "            file_path = os.path.join(subdir, directory, \"split\", split, \"spect\")\n",
    "            f_path, f_dirs, f_files = os.walk(file_path).next()\n",
    "            if len(f_files) != 2:\n",
    "                print directory\n",
    "        break"
   ]
  },
  {
   "cell_type": "code",
   "execution_count": 5,
   "metadata": {},
   "outputs": [],
   "source": [
    "def remove_spects(root, split, count):\n",
    "    for subdir, dirs, files in os.walk(root, split):\n",
    "        for directory in dirs:\n",
    "            file_path = os.path.join(subdir, directory, \"split\", split, \"spect\")\n",
    "            f_path, f_dirs, f_files = os.walk(file_path).next()\n",
    "            for f in f_files:\n",
    "                fname = os.path.basename(f)\n",
    "                if int(os.path.splitext(os.path.splitext(fname)[0])[0]) > int(count):\n",
    "                    os.remove(os.path.join(subdir, directory, \"split\", split, \"spect\", f))\n",
    "        break"
   ]
  },
  {
   "cell_type": "code",
   "execution_count": 6,
   "metadata": {},
   "outputs": [],
   "source": [
    "# cleanup_split('audio-train-new')\n",
    "# run_preprocess('audio-train-new', \"540\", \"12\")\n",
    "remove_spects('audio-train-new', \"12\", \"31\")"
   ]
  },
  {
   "cell_type": "markdown",
   "metadata": {},
   "source": [
    "#### Load spectrograms as matrices"
   ]
  },
  {
   "cell_type": "code",
   "execution_count": 7,
   "metadata": {},
   "outputs": [],
   "source": [
    "X, y = load_features('audio-train-new', \"12\")\n",
    "# cleanup_split('audio-train')"
   ]
  },
  {
   "cell_type": "code",
   "execution_count": 8,
   "metadata": {},
   "outputs": [],
   "source": [
    "from sklearn.model_selection import train_test_split\n",
    "\n",
    "X_train, X_test, y_train, y_test = train_test_split(X, y, test_size=0.2, random_state=42)"
   ]
  },
  {
   "cell_type": "markdown",
   "metadata": {},
   "source": [
    "#### One-hot encode the labels"
   ]
  },
  {
   "cell_type": "code",
   "execution_count": 9,
   "metadata": {},
   "outputs": [
    {
     "name": "stderr",
     "output_type": "stream",
     "text": [
      "Using TensorFlow backend.\n"
     ]
    }
   ],
   "source": [
    "import keras\n",
    "import numpy as np\n",
    "from sklearn.preprocessing import LabelEncoder\n",
    "from keras.utils import np_utils\n",
    "\n",
    "l_enc = LabelEncoder()\n",
    "l_enc.fit(y_train)\n",
    "y_train_enc = l_enc.transform(y_train)\n",
    "y_train_norm = np_utils.to_categorical(y_train_enc)\n",
    "\n",
    "l_enc.fit(y_test)\n",
    "y_test_enc = l_enc.transform(y_test)\n",
    "y_test_norm = np_utils.to_categorical(y_test_enc)"
   ]
  },
  {
   "cell_type": "markdown",
   "metadata": {},
   "source": [
    "#### Remove unnecessary variables from memory (To clear memory)"
   ]
  },
  {
   "cell_type": "code",
   "execution_count": 10,
   "metadata": {},
   "outputs": [],
   "source": [
    "del X, y, y_train_enc, y_test_enc, y_train, y_test"
   ]
  },
  {
   "cell_type": "markdown",
   "metadata": {},
   "source": [
    "#### Build the model"
   ]
  },
  {
   "cell_type": "code",
   "execution_count": 11,
   "metadata": {},
   "outputs": [],
   "source": [
    "from keras.layers import Activation, Conv2D, Dense, Dropout, Flatten, MaxPooling2D\n",
    "from keras.models import Sequential\n",
    "\n",
    "model = Sequential()\n",
    "model.add(Conv2D(8, (3, 3), padding='same',\n",
    "                 input_shape=(540, 960, 3)))\n",
    "model.add(Activation('relu'))\n",
    "model.add(Conv2D(8, (3, 3)))\n",
    "model.add(Activation('relu'))\n",
    "model.add(MaxPooling2D(pool_size=(2, 2)))\n",
    "model.add(Dropout(0.25))\n",
    "\n",
    "model.add(Conv2D(16, (3, 3), padding='same'))\n",
    "model.add(Activation('relu'))\n",
    "model.add(Conv2D(16, (3, 3)))\n",
    "model.add(Activation('relu'))\n",
    "model.add(MaxPooling2D(pool_size=(2, 2)))\n",
    "\n",
    "model.add(Flatten())\n",
    "model.add(Activation('relu'))\n",
    "model.add(Dense(118))\n",
    "model.add(Activation('softmax'))\n",
    "\n",
    "# initiate RMSprop optimizer\n",
    "opt = keras.optimizers.rmsprop(lr=0.0001, decay=1e-6)\n",
    "\n",
    "# Let's train the model using RMSprop\n",
    "model.compile(loss='categorical_crossentropy',\n",
    "              optimizer=opt,\n",
    "              metrics=['accuracy'])"
   ]
  },
  {
   "cell_type": "markdown",
   "metadata": {},
   "source": [
    "#### Train the neural network"
   ]
  },
  {
   "cell_type": "code",
   "execution_count": null,
   "metadata": {},
   "outputs": [
    {
     "name": "stdout",
     "output_type": "stream",
     "text": [
      "Train on 3206 samples, validate on 802 samples\n",
      "Epoch 1/1\n",
      " 128/3206 [>.............................] - ETA: 36:33 - loss: 6.1573 - acc: 0.0469"
     ]
    }
   ],
   "source": [
    "epoch = 1\n",
    "while epoch <= 5:\n",
    "    model.fit(np.array(X_train), y_train_norm,\n",
    "              batch_size=32,\n",
    "              epochs=1,\n",
    "              verbose=1,\n",
    "             validation_data=(np.array(X_test[:4000]), y_test_norm[:4000]))\n",
    "    model.save_weights('spect_model_weights_' + str(epoch) + '.h5')\n",
    "    epoch += 1"
   ]
  },
  {
   "cell_type": "markdown",
   "metadata": {},
   "source": [
    "#### Save the model weights to a file"
   ]
  },
  {
   "cell_type": "code",
   "execution_count": null,
   "metadata": {},
   "outputs": [],
   "source": [
    "model.save_weights('spect_model_weights_' + str(epoch) + '.h5')"
   ]
  },
  {
   "cell_type": "code",
   "execution_count": null,
   "metadata": {},
   "outputs": [],
   "source": []
  }
 ],
 "metadata": {
  "kernelspec": {
   "display_name": "Python 2",
   "language": "python",
   "name": "python2"
  },
  "language_info": {
   "codemirror_mode": {
    "name": "ipython",
    "version": 2
   },
   "file_extension": ".py",
   "mimetype": "text/x-python",
   "name": "python",
   "nbconvert_exporter": "python",
   "pygments_lexer": "ipython2",
   "version": "2.7.14"
  }
 },
 "nbformat": 4,
 "nbformat_minor": 2
}
