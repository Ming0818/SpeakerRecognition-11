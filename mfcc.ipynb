{
 "cells": [
  {
   "cell_type": "markdown",
   "metadata": {},
   "source": [
    "Steps to Perform for MFCC Transfer Learning\n",
    "Step 1: Load the files and convert to mfcc"
   ]
  },
  {
   "cell_type": "code",
   "execution_count": 60,
   "metadata": {},
   "outputs": [],
   "source": [
    "# import numpy as np\n",
    "# import librosa as lp\n",
    "\n",
    "# y, sr = lp.load('audio-train-new/a_country_doctor_1504_librivox_64kb_mp3/split/12/wav/000.wav')\n",
    "# y = y[::3]\n",
    "# print y.shape\n",
    "# mfcc = lp.feature.mfcc(y=y, sr=sr, n_mfcc=15)\n",
    "# print mfcc.shape"
   ]
  },
  {
   "cell_type": "code",
   "execution_count": 61,
   "metadata": {},
   "outputs": [],
   "source": [
    "# import matplotlib.pyplot as plt\n",
    "# import librosa.display\n",
    "\n",
    "# plt.figure(figsize=(10, 4))\n",
    "# lp.display.specshow(mfcc, x_axis='time')\n",
    "# plt.tight_layout()"
   ]
  },
  {
   "cell_type": "code",
   "execution_count": 62,
   "metadata": {},
   "outputs": [],
   "source": [
    "# import matplotlib.pyplot as plt\n",
    "# import librosa.display\n",
    "\n",
    "# plt.figure(figsize=(10, 4))\n",
    "# lp.display.specshow(mfcc, x_axis='time')\n",
    "# plt.tight_layout()"
   ]
  },
  {
   "cell_type": "code",
   "execution_count": 63,
   "metadata": {},
   "outputs": [],
   "source": [
    "import matplotlib.pyplot as plt\n",
    "import os\n",
    "import subprocess\n",
    "\n",
    "def run_preprocess(root, length, split):\n",
    "    for subdir, dirs, files in os.walk(root):\n",
    "        for directory in dirs:\n",
    "            subprocess.call([\"./preprocess\", os.path.join(subdir, directory), length, split])\n",
    "        break"
   ]
  },
  {
   "cell_type": "code",
   "execution_count": 64,
   "metadata": {},
   "outputs": [],
   "source": [
    "import numpy as np\n",
    "import librosa as lp\n",
    "\n",
    "def load_features(root, split):\n",
    "    mfcc_data = []\n",
    "    mfcc_label = []\n",
    "    for subdir, dirs, files in os.walk(root):\n",
    "        for directory in dirs:\n",
    "            file_path = os.path.join(subdir, directory, \"split\", split, \"wav\")\n",
    "            print directory\n",
    "            for filename in os.listdir(file_path):\n",
    "                y, sr = lp.load(os.path.join(file_path, filename))\n",
    "                mfcc = lp.feature.mfcc(y = y, sr = 16000, n_mfcc = 15)\n",
    "#                 print mfcc.shape\n",
    "                mfcc = np.pad(mfcc, pad_width=((0, 0), (0, 122)), mode='constant')\n",
    "                if mfcc.shape != (15, 122):\n",
    "                    mfcc = mfcc[:, :122]\n",
    "                mfcc_data.append(mfcc)\n",
    "                mfcc_label.append(directory)\n",
    "        break\n",
    "    return mfcc_data, mfcc_label"
   ]
  },
  {
   "cell_type": "code",
   "execution_count": 65,
   "metadata": {},
   "outputs": [],
   "source": [
    "import shutil\n",
    "\n",
    "def cleanup_split(root):\n",
    "    for subdir, dirs, files in os.walk(root):\n",
    "        for directory in dirs:\n",
    "            shutil.rmtree(os.path.join(subdir, directory, \"split\"), ignore_errors = True)\n",
    "        break"
   ]
  },
  {
   "cell_type": "code",
   "execution_count": 66,
   "metadata": {},
   "outputs": [],
   "source": [
    "cleanup_split('audio-train-new')\n",
    "run_preprocess('audio-train-new', \"120\", \"3\")"
   ]
  },
  {
   "cell_type": "code",
   "execution_count": 67,
   "metadata": {},
   "outputs": [
    {
     "name": "stdout",
     "output_type": "stream",
     "text": [
      "a_country_doctor_1504_librivox_64kb_mp3\n",
      "a_dreamers_tales_dm_1501_librivox_64kb_mp3\n",
      "adventuresbobwhite_1505_librivox_64kb_mp3\n",
      "aequanimitas_1412_librivox_64kb_mp3\n",
      "agnesgreyversion3_1501_librivox_64kb_mp3\n",
      "airplaneflyinghandbookvol3_1409_librivox_64kb_mp3\n",
      "alondonlife_1412_librivox_64kb_mp3\n",
      "ancient_modern_celebrated_freethinkers_1503_librivox_64kb_mp3\n",
      "aprendizdeconspirador_1412_librivox_64kb_mp3\n",
      "aristotles_masterpiece_1506_librivox_64kb_mp3\n",
      "artofdivinecontentment_1512_librivox_64kb_mp3\n",
      "battle-pieces_aspects_war_1501_librivox_64kb_mp3\n",
      "blackriders_1410_librivox_64kb_mp3\n",
      "boatsoftheglencarrig_1411_librivox_64kb_mp3\n",
      "bookofgoodcounsels_1506_librivox_64kb_mp3\n",
      "briefe_paulus_auswahl_1506_librivox_64kb_mp3\n",
      "britishsubject_president_1505_librivox_64kb_mp3\n",
      "canti_leopardi_1512_librivox_64kb_mp3\n",
      "childs_garden_of_verses_1503_librivox_64kb_mp3\n",
      "company_b_307th_infantry_wc_1412_librivox_64kb_mp3\n",
      "contes_humoristiques_1505_librivox_64kb_mp3\n",
      "curlyandfloppytwistytail_1509_librivox_64kb_mp3\n",
      "de_reis_naar_de_maan_1511_librivox_64kb_mp3\n",
      "de_vorst_1504_librivox_64kb_mp3\n",
      "deepwoodstocivilization_1502_librivox_64kb_mp3\n",
      "dernier_des_mohicans_1604_librivox_64kb_mp3\n",
      "door_unreal_1508_librivox_64kb_mp3\n",
      "dubrovsky_1411_librivox_64kb_mp3\n",
      "englishgirls_first_impressions_burmah_1412_librivox_64kb_mp3\n",
      "esau_jaco_1509_librivox_64kb_mp3\n",
      "essayoncriticism_1505_librivox_64kb_mp3\n",
      "experiences_executioner_1508_librivox_64kb_mp3\n",
      "explorersandtravellers_1509_librivox_64kb_mp3\n",
      "food_gods_1603_librivox_64kb_mp3\n",
      "formation_distribution_wealth_1503_librivox_64kb_mp3\n",
      "franceatwar_1507_librivox_64kb_mp3\n",
      "greybeardsatplay_1601_librivox_64kb_mp3\n",
      "gullivers_rejser_1503_librivox_64kb_mp3\n",
      "hindu_yogi_science_breath_mj_1509_librivox_64kb_mp3\n",
      "his_last_bow_version_3_1603_librivox_64kb_mp3\n",
      "historietas_nacionales_1602_librivox_64kb_mp3\n",
      "historymathematics_1601_librivox_64kb_mp3\n",
      "how_to_write_a_novel_1502_librivox_64kb_mp3\n",
      "human_toll_1501_librivox_64kb_mp3\n",
      "jessejames_myfather_1505_librivox_64kb_mp3\n",
      "john_gutenberg_cs_1509_librivox_64kb_mp3\n",
      "journal_julius_rodman_mp_1505_librivox_64kb_mp3\n",
      "konekgorbunok_1603_librivox_64kb_mp3\n",
      "lark_1507_librivox_64kb_mp3\n",
      "lebenssucher_1601_librivox_64kb_mp3\n",
      "letters_of_pliny_1510_librivox_64kb_mp3\n",
      "lifeofcarltonparker_1409_librivox_64kb_mp3\n",
      "little_megs_children_1501_librivox_64kb_mp3\n",
      "littlebrothertothebear_1602_librivox_64kb_mp3\n",
      "littlefoldedhands_1412_librivox_64kb_mp3\n",
      "littleprincess_1502_librivox_64kb_mp3\n",
      "lob_der_narrheit_1503_librivox_64kb_mp3\n",
      "marcia_schuyler_1603_librivox_64kb_mp3\n",
      "marybartonversion2_1603_librivox_64kb_mp3\n",
      "mayorofcasterbridge3_1506_librivox_64kb_mp3\n",
      "meguriai_1409_librivox_64kb_mp3\n",
      "meister_eckharts_sermons_1412_librivox_64kb_mp3\n",
      "miss_ingalis_bt_1508_librivox_64kb_mp3\n",
      "modern_scottish_minstrel_1602_librivox_64kb_mp3\n",
      "moral_tales_1602_librivox_64kb_mp3\n",
      "morallettersvol1_1501_librivox_64kb_mp3\n",
      "mounties_in_the_news_1509_librivox_64kb_mp3\n",
      "myreminiscences_1410_librivox_64kb_mp3\n",
      "mysteries_london2_1508_librivox_64kb_mp3\n",
      "mystical_city_god_1_amb_1602_librivox_64kb_mp3\n",
      "myths_legends_great_plains_1511_librivox_64kb_mp3\n",
      "nedfranks_1504_librivox_64kb_mp3\n",
      "new_testament_kneeland_1412_librivox_64kb_mp3\n",
      "onanirishjauntingcar_1505_librivox_64kb_mp3\n",
      "origin_of_species_by_natural_selection_1508_librivox_64kb_mp3\n",
      "pennycomequicks_1511_librivox_64kb_mp3\n",
      "philosophical_rudiments_government_society_librivox_64kb_mp3\n",
      "plateroyyo_1505_librivox_64kb_mp3\n",
      "psychologyofpeople_1604_librivox_64kb_mp3\n",
      "religiousaffections_1501_librivox_64kb_mp3\n",
      "republicofthefuture_1602_librivox_64kb_mp3\n",
      "reynardthefox_1409_librivox_64kb_mp3\n",
      "rose_garden_husband_1508_librivox_64kb_mp3\n",
      "roughriders_1503_librivox_64kb_mp3\n",
      "sabotage_in_space_1512_librivox_64kb_mp3\n",
      "sacred_meditations_1603_librivox_64kb_mp3\n",
      "san_francisco_earthquake_fire_mk_1505_librivox_64kb_mp3\n",
      "sexesinscienceandhistory_1508_librivox_64kb_mp3\n",
      "shininggateway_1501_librivox_64kb_mp3\n",
      "short_stories_hyun_1411_librivox_64kb_mp3\n",
      "short_stories_na_1412_librivox_64kb_mp3\n",
      "stine_1410_librivox_64kb_mp3\n",
      "story_of_one_short_life_1508_librivox_64kb_mp3\n",
      "symbolism_1510_librivox_64kb_mp3\n",
      "tausend_eine_nacht_2_1512_librivox_64kb_mp3\n",
      "tenfrominfinity_1603_librivox_64kb_mp3\n",
      "the_monastery_1501_librivox_64kb_mp3\n",
      "the_one-eyed_griffin_1411_librivox_64kb_mp3\n",
      "the_storm_1504_librivox_64kb_mp3\n",
      "theodoric_the_goth_1509_librivox_64kb_mp3\n",
      "thirdperson_1408_librivox_64kb_mp3\n",
      "threetimesandout_1412_librivox_64kb_mp3\n",
      "tour_dr_syntax_1601_librivox_64kb_mp3\n",
      "tower_of_london_1602_librivox_64kb_mp3\n",
      "tschun_1504_librivox_64kb_mp3\n",
      "twice_bought_1503_librivox_64kb_mp3\n",
      "uncle_of_an_angel_sm_1501_librivox_64kb_mp3\n",
      "uncletomscabin_1604_librivox_64kb_mp3\n",
      "unknown_to_history_1511_librivox_64kb_mp3\n",
      "visha_vahini_1512_librivox_64kb_mp3\n",
      "warden_1511_librivox_64kb_mp3\n",
      "weisse_naechte_1504_librivox_64kb_mp3\n",
      "wildknight_1508_librivox_64kb_mp3\n",
      "wildwales_sg_1506_librivox_64kb_mp3\n",
      "winning_his_spurs_1412_librivox_64kb_mp3\n",
      "worshipper_image_1410_librivox_64kb_mp3\n",
      "young_folks_history_american_revolution_1503_librivox_64kb_mp3\n",
      "youngwomansguide_1501_librivox_64kb_mp3\n"
     ]
    }
   ],
   "source": [
    "X, y = load_features('audio-train-new', \"5\")"
   ]
  },
  {
   "cell_type": "code",
   "execution_count": 1,
   "metadata": {},
   "outputs": [
    {
     "name": "stdout",
     "output_type": "stream",
     "text": [
      "(15, 122)\n"
     ]
    }
   ],
   "source": [
    "import pickle\n",
    "\n",
    "# with open('mfcc_X_y_45_3', 'rb') as f:\n",
    "#     X, y = pickle.load(f)\n",
    "\n",
    "# with open('mfcc_X_y_120_5', 'wb') as f:\n",
    "#     pickle.dump([X, y], f)"
   ]
  },
  {
   "cell_type": "code",
   "execution_count": 69,
   "metadata": {},
   "outputs": [],
   "source": [
    "X = np.dstack(X)\n",
    "\n",
    "X = np.swapaxes(X, 0, 1)\n",
    "X = np.swapaxes(X, 0, 2)\n",
    "\n",
    "X = X.reshape(X.shape[0], X.shape[1], X.shape[2], 1)"
   ]
  },
  {
   "cell_type": "code",
   "execution_count": 78,
   "metadata": {},
   "outputs": [
    {
     "name": "stdout",
     "output_type": "stream",
     "text": [
      "118\n"
     ]
    }
   ],
   "source": [
    "\n",
    "print len(set(y))"
   ]
  },
  {
   "cell_type": "code",
   "execution_count": 70,
   "metadata": {},
   "outputs": [],
   "source": [
    "from sklearn.model_selection import train_test_split\n",
    "\n",
    "X_train, X_test, y_train, y_test = train_test_split(X, y, test_size=0.3, random_state=64)"
   ]
  },
  {
   "cell_type": "code",
   "execution_count": 71,
   "metadata": {},
   "outputs": [],
   "source": [
    "import keras\n",
    "import numpy as np\n",
    "from sklearn.preprocessing import LabelEncoder\n",
    "from keras.utils import np_utils\n",
    "\n",
    "l_enc = LabelEncoder()\n",
    "l_enc.fit(y_train)\n",
    "y_train_enc = l_enc.transform(y_train)\n",
    "y_train_norm = np_utils.to_categorical(y_train_enc)\n",
    "\n",
    "l_enc.fit(y_test)\n",
    "y_test_enc = l_enc.transform(y_test)\n",
    "y_test_norm = np_utils.to_categorical(y_test_enc)"
   ]
  },
  {
   "cell_type": "code",
   "execution_count": 72,
   "metadata": {},
   "outputs": [],
   "source": [
    "# del X, y, y_train_enc, y_test_enc, y_train, y_test"
   ]
  },
  {
   "cell_type": "code",
   "execution_count": 79,
   "metadata": {},
   "outputs": [],
   "source": [
    "from keras.layers import Activation, Conv2D, Dense, Dropout, Flatten, MaxPooling2D\n",
    "from keras.models import Sequential\n",
    "\n",
    "model = Sequential()\n",
    "model.add(Conv2D(8, (3, 3), padding='same',\n",
    "                 input_shape=(15, 221, 1)))\n",
    "model.add(Activation('relu'))\n",
    "model.add(Conv2D(8, (3, 3)))\n",
    "model.add(Activation('relu'))\n",
    "model.add(MaxPooling2D(pool_size=(2, 2)))\n",
    "model.add(Dropout(0.25))\n",
    "\n",
    "model.add(Conv2D(16, (3, 3), padding='same'))\n",
    "model.add(Activation('relu'))\n",
    "model.add(Conv2D(16, (3, 3)))\n",
    "model.add(Activation('relu'))\n",
    "model.add(MaxPooling2D(pool_size=(2, 2)))\n",
    "\n",
    "model.add(Flatten())\n",
    "model.add(Activation('relu'))\n",
    "model.add(Dense(118))\n",
    "model.add(Activation('softmax'))\n",
    "\n",
    "# initiate RMSprop optimizer\n",
    "opt = keras.optimizers.rmsprop(lr=0.0001, decay=1e-6)\n",
    "\n",
    "# Let's train the model using RMSprop\n",
    "model.compile(loss='categorical_crossentropy',\n",
    "              optimizer=opt,\n",
    "              metrics=['accuracy'])"
   ]
  },
  {
   "cell_type": "code",
   "execution_count": 81,
   "metadata": {},
   "outputs": [
    {
     "name": "stdout",
     "output_type": "stream",
     "text": [
      "Train on 1743 samples, validate on 748 samples\n",
      "Epoch 1/20\n",
      "1743/1743 [==============================] - 6s 3ms/step - loss: 0.5583 - acc: 0.8371 - val_loss: 3.6973 - val_acc: 0.2179\n",
      "Epoch 2/20\n",
      "1743/1743 [==============================] - 6s 3ms/step - loss: 0.4964 - acc: 0.8480 - val_loss: 3.6273 - val_acc: 0.2406\n",
      "Epoch 3/20\n",
      "1743/1743 [==============================] - 6s 3ms/step - loss: 0.4616 - acc: 0.8612 - val_loss: 3.7200 - val_acc: 0.2420\n",
      "Epoch 4/20\n",
      "1743/1743 [==============================] - 6s 3ms/step - loss: 0.4232 - acc: 0.8807 - val_loss: 3.7781 - val_acc: 0.2353\n",
      "Epoch 5/20\n",
      "1743/1743 [==============================] - 6s 3ms/step - loss: 0.3616 - acc: 0.8910 - val_loss: 3.7911 - val_acc: 0.2540\n",
      "Epoch 6/20\n",
      "1743/1743 [==============================] - 6s 4ms/step - loss: 0.3046 - acc: 0.9053 - val_loss: 3.7813 - val_acc: 0.2460\n",
      "Epoch 7/20\n",
      "1743/1743 [==============================] - 6s 3ms/step - loss: 0.2737 - acc: 0.9220 - val_loss: 3.8139 - val_acc: 0.2607\n",
      "Epoch 8/20\n",
      "1743/1743 [==============================] - 6s 4ms/step - loss: 0.2493 - acc: 0.9231 - val_loss: 3.8631 - val_acc: 0.2674\n",
      "Epoch 9/20\n",
      "1743/1743 [==============================] - 6s 4ms/step - loss: 0.2408 - acc: 0.9254 - val_loss: 3.8960 - val_acc: 0.2674\n",
      "Epoch 10/20\n",
      "1743/1743 [==============================] - 6s 4ms/step - loss: 0.2021 - acc: 0.9375 - val_loss: 3.8984 - val_acc: 0.2714\n",
      "Epoch 11/20\n",
      "1743/1743 [==============================] - 6s 4ms/step - loss: 0.1788 - acc: 0.9507 - val_loss: 3.9453 - val_acc: 0.2861\n",
      "Epoch 12/20\n",
      "1743/1743 [==============================] - 6s 4ms/step - loss: 0.1735 - acc: 0.9466 - val_loss: 3.9270 - val_acc: 0.2874\n",
      "Epoch 13/20\n",
      "1743/1743 [==============================] - 6s 4ms/step - loss: 0.1496 - acc: 0.9564 - val_loss: 3.9593 - val_acc: 0.2874\n",
      "Epoch 14/20\n",
      "1743/1743 [==============================] - 6s 4ms/step - loss: 0.1279 - acc: 0.9616 - val_loss: 4.0576 - val_acc: 0.2848\n",
      "Epoch 15/20\n",
      "1743/1743 [==============================] - 6s 4ms/step - loss: 0.1254 - acc: 0.9633 - val_loss: 4.1420 - val_acc: 0.2794\n",
      "Epoch 16/20\n",
      "1743/1743 [==============================] - 6s 4ms/step - loss: 0.1231 - acc: 0.9673 - val_loss: 4.1929 - val_acc: 0.2955\n",
      "Epoch 17/20\n",
      "1743/1743 [==============================] - 6s 4ms/step - loss: 0.1133 - acc: 0.9656 - val_loss: 4.1840 - val_acc: 0.3035\n",
      "Epoch 18/20\n",
      "1743/1743 [==============================] - 6s 4ms/step - loss: 0.1007 - acc: 0.9696 - val_loss: 4.2446 - val_acc: 0.2995\n",
      "Epoch 19/20\n",
      "1743/1743 [==============================] - 6s 4ms/step - loss: 0.0986 - acc: 0.9719 - val_loss: 4.1603 - val_acc: 0.3182\n",
      "Epoch 20/20\n",
      "1743/1743 [==============================] - 6s 4ms/step - loss: 0.0832 - acc: 0.9782 - val_loss: 4.3654 - val_acc: 0.2968\n"
     ]
    },
    {
     "data": {
      "text/plain": [
       "<keras.callbacks.History at 0x106f42b10>"
      ]
     },
     "execution_count": 81,
     "metadata": {},
     "output_type": "execute_result"
    }
   ],
   "source": [
    "# epoch = 1\n",
    "# while epoch <= 30:\n",
    "model.fit(np.array(X_train), y_train_norm,\n",
    "          batch_size=32,\n",
    "          epochs=20,\n",
    "          verbose=1,\n",
    "          shuffle = True,\n",
    "         validation_data=(np.array(X_test), y_test_norm))\n",
    "#     model.save_weights('spect_model_weights_' + str(epoch) + '.h5')\n",
    "#     epoch += 1"
   ]
  },
  {
   "cell_type": "code",
   "execution_count": 82,
   "metadata": {},
   "outputs": [],
   "source": [
    "model.save_weights('mfcc_model_weights_120_5.h5')"
   ]
  },
  {
   "cell_type": "code",
   "execution_count": null,
   "metadata": {},
   "outputs": [],
   "source": []
  }
 ],
 "metadata": {
  "kernelspec": {
   "display_name": "Python 2",
   "language": "python",
   "name": "python2"
  },
  "language_info": {
   "codemirror_mode": {
    "name": "ipython",
    "version": 2
   },
   "file_extension": ".py",
   "mimetype": "text/x-python",
   "name": "python",
   "nbconvert_exporter": "python",
   "pygments_lexer": "ipython2",
   "version": "2.7.14"
  }
 },
 "nbformat": 4,
 "nbformat_minor": 2
}
