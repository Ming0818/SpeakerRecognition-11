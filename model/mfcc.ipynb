{
 "cells": [
  {
   "cell_type": "markdown",
   "metadata": {},
   "source": [
    "Steps to Perform for MFCC Transfer Learning\n",
    "Step 1: Load the files and convert to mfcc"
   ]
  },
  {
   "cell_type": "code",
   "execution_count": 3,
   "metadata": {},
   "outputs": [],
   "source": [
    "n_mfcc = 128\n",
    "n_mfcc_width = 432\n",
    "window_size = 10\n",
    "audio_len = 90\n",
    "data_dir = 'audio-train-new'\n",
    "n_samples = 118"
   ]
  },
  {
   "cell_type": "code",
   "execution_count": 1,
   "metadata": {},
   "outputs": [],
   "source": [
    "import librosa as lp\n",
    "import matplotlib.pyplot as plt\n",
    "import numpy as np\n",
    "import os\n",
    "import subprocess\n",
    "import shutil\n",
    "\n",
    "def run_preprocess(root, length, split):\n",
    "    for subdir, dirs, files in os.walk(root):\n",
    "        for directory in dirs:\n",
    "#             print(directory)\n",
    "            mfcc_data = []\n",
    "            npy_file = directory + '_' + 'mfcc' + '_' + str(512) + '_' + length + '_' + split + '.npy'\n",
    "            if os.path.isfile(os.path.join(subdir, directory, npy_file)):\n",
    "                continue\n",
    "\n",
    "            if not os.path.isdir(os.path.join(subdir, directory, \"split\", split)):\n",
    "                subprocess.call([\"./preprocess\", os.path.join(subdir, directory), length, split])\n",
    "\n",
    "            file_path = os.path.join(subdir, directory, \"split\", split, \"wav\")\n",
    "            for filename in os.listdir(file_path):\n",
    "                y, sr = lp.load(os.path.join(file_path, filename))\n",
    "                mfcc = lp.feature.mfcc(y = y, sr = 16000, n_mfcc = 128)\n",
    "#                 print(mfcc.shape)\n",
    "                mfcc = np.pad(mfcc, pad_width=((0, 0), (0, n_mfcc_width)), mode='constant')\n",
    "                if mfcc.shape != (n_mfcc, n_mfcc_width):\n",
    "                    mfcc = mfcc[:, :n_mfcc_width]\n",
    "#                 print(mfcc.shape)\n",
    "                mfcc_data.append(mfcc)\n",
    "\n",
    "            np.save(os.path.join(subdir, directory, npy_file), np.asarray(mfcc_data))\n",
    "#             print(np.asarray(mfcc_data).shape)\n",
    "            shutil.rmtree(os.path.join(subdir, directory, \"split\"), ignore_errors = True)\n",
    "        break"
   ]
  },
  {
   "cell_type": "code",
   "execution_count": 3,
   "metadata": {},
   "outputs": [],
   "source": [
    "import shutil\n",
    "\n",
    "def rename_npy(root, length, split):\n",
    "    for subdir, dirs, files in os.walk(root):\n",
    "        for directory in dirs:\n",
    "            npy_file = directory + '_' + length + '_' + split + '.npy'\n",
    "            new_npy_file = directory + '_' + 'mfcc' + '_' + str(512) + '_' + length + '_' + split + '.npy'\n",
    "            if os.path.isfile(os.path.join(subdir, directory, npy_file)):\n",
    "                shutil.move(os.path.join(subdir, directory, npy_file), os.path.join(subdir, directory, new_npy_file))\n",
    "        break"
   ]
  },
  {
   "cell_type": "code",
   "execution_count": 4,
   "metadata": {},
   "outputs": [],
   "source": [
    "def load_features(root, length, split):\n",
    "    mfcc_data = np.zeros((0, n_mfcc, n_mfcc_width))\n",
    "    mfcc_label = []\n",
    "    for subdir, dirs, files in os.walk(root):\n",
    "        for directory in dirs:\n",
    "            if len(directory.split(\".\")) != 2:\n",
    "                continue\n",
    "            npy_file = directory + '_' + 'mfcc' + '_' + str(512) + '_' + length + '_' + split + '.npy'\n",
    "            mfcc = np.load(os.path.join(subdir, directory, npy_file))\n",
    "            if mfcc.size == 0:\n",
    "                continue\n",
    "            mfcc_data = np.concatenate((mfcc_data, mfcc[:, :n_mfcc, :]))\n",
    "            mfcc_label += mfcc.shape[0] * [directory.split('.')[0]]\n",
    "        break\n",
    "    return mfcc_data, mfcc_label"
   ]
  },
  {
   "cell_type": "code",
   "execution_count": 5,
   "metadata": {},
   "outputs": [],
   "source": [
    "def cleanup_split(root):\n",
    "    for subdir, dirs, files in os.walk(root):\n",
    "        for directory in dirs:\n",
    "            shutil.rmtree(os.path.join(subdir, directory, \"split\"), ignore_errors = True)\n",
    "        break"
   ]
  },
  {
   "cell_type": "code",
   "execution_count": 6,
   "metadata": {},
   "outputs": [],
   "source": [
    "import glob\n",
    "\n",
    "def cleanup_merged(root):\n",
    "    for subdir, dirs, files in os.walk(root):\n",
    "        for directory in dirs:\n",
    "            for f in glob.glob(os.path.join(subdir, directory, \"*_merged*.*\")):\n",
    "                os.remove(f)\n",
    "        break\n",
    "\n",
    "def cleanup_npy(root):\n",
    "    for subdir, dirs, files in os.walk(root):\n",
    "        for directory in dirs:\n",
    "            for f in glob.glob(os.path.join(subdir, directory, \"*.npy\")):\n",
    "                os.remove(f)\n",
    "        break"
   ]
  },
  {
   "cell_type": "code",
   "execution_count": 7,
   "metadata": {},
   "outputs": [],
   "source": [
    "def rename_samples(root):\n",
    "    for subdir, dirs, files in os.walk(root):\n",
    "        for directory in dirs:\n",
    "            shutil.move(os.path.join(subdir, directory), os.path.join(subdir, directory.split(\"_\")[0]))\n",
    "        break\n",
    "\n",
    "def remove_extra_samples(root):\n",
    "    for subdir, dirs, files in os.walk(root):\n",
    "        for directory in dirs:\n",
    "            name_o = directory.split(\".\") \n",
    "            if len(name_o) == 2 and int(name_o[1]) > 10:\n",
    "                shutil.rmtree(os.path.join(subdir, directory))\n",
    "        break\n",
    "    \n",
    "def distribute_samples(root):\n",
    "    for subdir, dirs, files in os.walk(root):\n",
    "        for directory in dirs:\n",
    "            if len(directory.split(\".\")) != 1:\n",
    "                continue\n",
    "            for d_subdir, d_dirs, d_files in os.walk(os.path.join(root, directory)):\n",
    "                for i, sample in enumerate(d_files):\n",
    "                    os.makedirs(os.path.join(subdir, directory + \".\" + str(i + 1)))\n",
    "                    shutil.move(os.path.join(subdir, directory, sample), \\\n",
    "                                os.path.join(subdir, directory + \".\" + str(i + 1), sample))\n",
    "                break\n",
    "        remove_extra_samples(root)\n",
    "        break"
   ]
  },
  {
   "cell_type": "code",
   "execution_count": 5,
   "metadata": {},
   "outputs": [
    {
     "ename": "NameError",
     "evalue": "name 'cleanup_split' is not defined",
     "output_type": "error",
     "traceback": [
      "\u001b[0;31m---------------------------------------------------------------------------\u001b[0m",
      "\u001b[0;31mNameError\u001b[0m                                 Traceback (most recent call last)",
      "\u001b[0;32m<ipython-input-5-e607580d2730>\u001b[0m in \u001b[0;36m<module>\u001b[0;34m()\u001b[0m\n\u001b[0;32m----> 1\u001b[0;31m \u001b[0mcleanup_split\u001b[0m\u001b[0;34m(\u001b[0m\u001b[0mdata_dir\u001b[0m\u001b[0;34m)\u001b[0m\u001b[0;34m\u001b[0m\u001b[0m\n\u001b[0m\u001b[1;32m      2\u001b[0m \u001b[0;31m# cleanup_npy(data_dir)\u001b[0m\u001b[0;34m\u001b[0m\u001b[0;34m\u001b[0m\u001b[0m\n\u001b[1;32m      3\u001b[0m \u001b[0;31m# rename_samples(data_dir)\u001b[0m\u001b[0;34m\u001b[0m\u001b[0;34m\u001b[0m\u001b[0m\n\u001b[1;32m      4\u001b[0m \u001b[0;31m# distribute_samples(data_dir)\u001b[0m\u001b[0;34m\u001b[0m\u001b[0;34m\u001b[0m\u001b[0m\n\u001b[1;32m      5\u001b[0m \u001b[0mrun_preprocess\u001b[0m\u001b[0;34m(\u001b[0m\u001b[0mdata_dir\u001b[0m\u001b[0;34m,\u001b[0m \u001b[0mstr\u001b[0m\u001b[0;34m(\u001b[0m\u001b[0maudio_len\u001b[0m\u001b[0;34m)\u001b[0m\u001b[0;34m,\u001b[0m \u001b[0mstr\u001b[0m\u001b[0;34m(\u001b[0m\u001b[0mwindow_size\u001b[0m\u001b[0;34m)\u001b[0m\u001b[0;34m)\u001b[0m\u001b[0;34m\u001b[0m\u001b[0m\n",
      "\u001b[0;31mNameError\u001b[0m: name 'cleanup_split' is not defined"
     ]
    }
   ],
   "source": [
    "cleanup_split(data_dir)\n",
    "# cleanup_npy(data_dir)\n",
    "# rename_samples(data_dir)\n",
    "# distribute_samples(data_dir)\n",
    "run_preprocess(data_dir, str(audio_len), str(window_size))"
   ]
  },
  {
   "cell_type": "code",
   "execution_count": 50,
   "metadata": {},
   "outputs": [],
   "source": [
    "X, y = load_features(data_dir, str(audio_len), str(window_size))\n",
    "X = X.reshape(X.shape[0], X.shape[1], X.shape[2], 1)"
   ]
  },
  {
   "cell_type": "code",
   "execution_count": 51,
   "metadata": {},
   "outputs": [],
   "source": [
    "from sklearn.model_selection import train_test_split\n",
    "\n",
    "X_train, X_test, y_train, y_test = train_test_split(X, y, test_size=0.3, random_state=64)"
   ]
  },
  {
   "cell_type": "code",
   "execution_count": 52,
   "metadata": {},
   "outputs": [],
   "source": [
    "import keras\n",
    "import numpy as np\n",
    "from sklearn.preprocessing import LabelEncoder\n",
    "from keras.utils import np_utils\n",
    "\n",
    "l_enc = LabelEncoder()\n",
    "l_enc.fit(y_train)\n",
    "y_train_enc = l_enc.transform(y_train)\n",
    "y_train_norm = np_utils.to_categorical(y_train_enc)\n",
    "\n",
    "l_enc.fit(y_test)\n",
    "y_test_enc = l_enc.transform(y_test)\n",
    "y_test_norm = np_utils.to_categorical(y_test_enc)"
   ]
  },
  {
   "cell_type": "code",
   "execution_count": 53,
   "metadata": {},
   "outputs": [],
   "source": [
    "# del X, y, y_train_enc, y_test_enc, y_train, y_test\n",
    "X_train = X_train[:, :64, :, :]\n",
    "X_test = X_test[:, :64, :, :]"
   ]
  },
  {
   "cell_type": "code",
   "execution_count": 54,
   "metadata": {},
   "outputs": [],
   "source": [
    "from keras.layers import Activation, Conv2D, Dense, Dropout, Flatten, MaxPooling2D\n",
    "from keras.models import Sequential\n",
    "\n",
    "model = Sequential()\n",
    "model.add(Conv2D(32, kernel_size=(2, 2), activation='relu',\n",
    "                 input_shape=(n_mfcc, n_mfcc_width, 1)))\n",
    "model.add(MaxPooling2D(pool_size=(2, 2)))\n",
    "model.add(Activation('relu'))\n",
    "model.add(Dropout(0.25))\n",
    "\n",
    "model.add(Conv2D(32, kernel_size=(2, 2), padding='same'))\n",
    "model.add(Activation('relu'))\n",
    "model.add(MaxPooling2D(pool_size=(2, 2)))\n",
    "model.add(Dense(n_mfcc/2, activation='relu'))\n",
    "model.add(Dropout(0.25))\n",
    "model.add(Flatten())\n",
    "model.add(Dense(len(y_test_norm[0])))\n",
    "model.add(Activation('softmax'))\n",
    "\n",
    "# initiate RMSprop optimizer\n",
    "opt = keras.optimizers.rmsprop(lr=0.0001, decay=1e-6)\n",
    "\n",
    "# Let's train the model using RMSprop\n",
    "model.compile(loss='categorical_crossentropy',\n",
    "              optimizer=opt,\n",
    "              metrics=['accuracy'])\n",
    "ctr = 1"
   ]
  },
  {
   "cell_type": "code",
   "execution_count": 16,
   "metadata": {},
   "outputs": [],
   "source": [
    "from keras.utils import plot_model\n",
    "plot_model(model, to_file='mfcc_model.png', show_shapes=True)"
   ]
  },
  {
   "cell_type": "code",
   "execution_count": 17,
   "metadata": {},
   "outputs": [
    {
     "name": "stdout",
     "output_type": "stream",
     "text": [
      "_________________________________________________________________\n",
      "Layer (type)                 Output Shape              Param #   \n",
      "=================================================================\n",
      "conv2d_3 (Conv2D)            (None, 63, 431, 32)       160       \n",
      "_________________________________________________________________\n",
      "max_pooling2d_3 (MaxPooling2 (None, 31, 215, 32)       0         \n",
      "_________________________________________________________________\n",
      "activation_4 (Activation)    (None, 31, 215, 32)       0         \n",
      "_________________________________________________________________\n",
      "dropout_3 (Dropout)          (None, 31, 215, 32)       0         \n",
      "_________________________________________________________________\n",
      "conv2d_4 (Conv2D)            (None, 31, 215, 32)       4128      \n",
      "_________________________________________________________________\n",
      "activation_5 (Activation)    (None, 31, 215, 32)       0         \n",
      "_________________________________________________________________\n",
      "max_pooling2d_4 (MaxPooling2 (None, 15, 107, 32)       0         \n",
      "_________________________________________________________________\n",
      "dense_3 (Dense)              (None, 15, 107, 32)       1056      \n",
      "_________________________________________________________________\n",
      "dropout_4 (Dropout)          (None, 15, 107, 32)       0         \n",
      "_________________________________________________________________\n",
      "flatten_2 (Flatten)          (None, 51360)             0         \n",
      "_________________________________________________________________\n",
      "dense_4 (Dense)              (None, 249)               12788889  \n",
      "_________________________________________________________________\n",
      "activation_6 (Activation)    (None, 249)               0         \n",
      "=================================================================\n",
      "Total params: 12,794,233\n",
      "Trainable params: 12,794,233\n",
      "Non-trainable params: 0\n",
      "_________________________________________________________________\n"
     ]
    }
   ],
   "source": [
    "model.summary()"
   ]
  },
  {
   "cell_type": "code",
   "execution_count": 18,
   "metadata": {},
   "outputs": [
    {
     "name": "stdout",
     "output_type": "stream",
     "text": [
      "_________________________________________________________________\n",
      "Layer (type)                 Output Shape              Param #   \n",
      "=================================================================\n",
      "conv2d_3 (Conv2D)            (None, 63, 431, 32)       160       \n",
      "_________________________________________________________________\n",
      "max_pooling2d_3 (MaxPooling2 (None, 31, 215, 32)       0         \n",
      "_________________________________________________________________\n",
      "activation_4 (Activation)    (None, 31, 215, 32)       0         \n",
      "_________________________________________________________________\n",
      "dropout_3 (Dropout)          (None, 31, 215, 32)       0         \n",
      "_________________________________________________________________\n",
      "conv2d_4 (Conv2D)            (None, 31, 215, 32)       4128      \n",
      "_________________________________________________________________\n",
      "activation_5 (Activation)    (None, 31, 215, 32)       0         \n",
      "_________________________________________________________________\n",
      "max_pooling2d_4 (MaxPooling2 (None, 15, 107, 32)       0         \n",
      "_________________________________________________________________\n",
      "dense_3 (Dense)              (None, 15, 107, 32)       1056      \n",
      "_________________________________________________________________\n",
      "dropout_4 (Dropout)          (None, 15, 107, 32)       0         \n",
      "_________________________________________________________________\n",
      "flatten_2 (Flatten)          (None, 51360)             0         \n",
      "_________________________________________________________________\n",
      "dense_4 (Dense)              (None, 249)               12788889  \n",
      "_________________________________________________________________\n",
      "activation_6 (Activation)    (None, 249)               0         \n",
      "=================================================================\n",
      "Total params: 12,794,233\n",
      "Trainable params: 12,794,233\n",
      "Non-trainable params: 0\n",
      "_________________________________________________________________\n"
     ]
    }
   ],
   "source": [
    "model.summary()"
   ]
  },
  {
   "cell_type": "code",
   "execution_count": 55,
   "metadata": {},
   "outputs": [
    {
     "name": "stdout",
     "output_type": "stream",
     "text": [
      "Train on 1584 samples, validate on 679 samples\n",
      "Epoch 1/30\n",
      "1584/1584 [==============================] - 42s 26ms/step - loss: 15.5530 - acc: 0.0303 - val_loss: 16.0469 - val_acc: 0.0044\n",
      "Epoch 2/30\n",
      "1584/1584 [==============================] - 43s 27ms/step - loss: 15.6504 - acc: 0.0278 - val_loss: 15.7145 - val_acc: 0.0250\n",
      "Epoch 3/30\n",
      "1584/1584 [==============================] - 44s 28ms/step - loss: 15.4579 - acc: 0.0398 - val_loss: 15.6433 - val_acc: 0.0295\n",
      "Epoch 4/30\n",
      "1584/1584 [==============================] - 44s 28ms/step - loss: 15.3600 - acc: 0.0448 - val_loss: 15.4196 - val_acc: 0.0236\n",
      "Epoch 5/30\n",
      "1584/1584 [==============================] - 41s 26ms/step - loss: 15.2257 - acc: 0.0524 - val_loss: 15.6433 - val_acc: 0.0295\n",
      "Epoch 6/30\n",
      "1584/1584 [==============================] - 41s 26ms/step - loss: 15.1407 - acc: 0.0511 - val_loss: 15.4176 - val_acc: 0.0339\n",
      "Epoch 7/30\n",
      "1584/1584 [==============================] - 44s 28ms/step - loss: 15.0625 - acc: 0.0568 - val_loss: 15.2872 - val_acc: 0.0412\n",
      "Epoch 8/30\n",
      "1584/1584 [==============================] - 39s 25ms/step - loss: 14.9747 - acc: 0.0682 - val_loss: 15.3420 - val_acc: 0.0383\n",
      "Epoch 9/30\n",
      "1584/1584 [==============================] - 40s 25ms/step - loss: 14.9986 - acc: 0.0657 - val_loss: 15.3591 - val_acc: 0.0383\n",
      "Epoch 10/30\n",
      "1584/1584 [==============================] - 46s 29ms/step - loss: 15.0025 - acc: 0.0650 - val_loss: 15.2737 - val_acc: 0.0471\n",
      "Epoch 11/30\n",
      "1584/1584 [==============================] - 41s 26ms/step - loss: 14.9022 - acc: 0.0688 - val_loss: 15.2493 - val_acc: 0.0530\n",
      "Epoch 12/30\n",
      "1584/1584 [==============================] - 36s 23ms/step - loss: 14.9166 - acc: 0.0707 - val_loss: 15.2573 - val_acc: 0.0530\n",
      "Epoch 13/30\n",
      "1584/1584 [==============================] - 39s 25ms/step - loss: 14.8152 - acc: 0.0701 - val_loss: 13.4526 - val_acc: 0.0751\n",
      "Epoch 14/30\n",
      "1584/1584 [==============================] - 44s 28ms/step - loss: 12.7486 - acc: 0.1288 - val_loss: 11.8862 - val_acc: 0.2121\n",
      "Epoch 15/30\n",
      "1584/1584 [==============================] - 39s 24ms/step - loss: 10.5628 - acc: 0.2153 - val_loss: 8.3618 - val_acc: 0.2887\n",
      "Epoch 16/30\n",
      "1584/1584 [==============================] - 41s 26ms/step - loss: 7.4645 - acc: 0.3497 - val_loss: 6.6959 - val_acc: 0.4433\n",
      "Epoch 17/30\n",
      "1584/1584 [==============================] - 38s 24ms/step - loss: 5.9227 - acc: 0.5044 - val_loss: 5.5178 - val_acc: 0.4669\n",
      "Epoch 18/30\n",
      "1584/1584 [==============================] - 38s 24ms/step - loss: 4.4376 - acc: 0.6181 - val_loss: 4.9587 - val_acc: 0.5287\n",
      "Epoch 19/30\n",
      "1584/1584 [==============================] - 38s 24ms/step - loss: 3.6985 - acc: 0.7008 - val_loss: 3.8231 - val_acc: 0.5081\n",
      "Epoch 20/30\n",
      "1584/1584 [==============================] - 39s 25ms/step - loss: 2.4569 - acc: 0.7595 - val_loss: 3.4100 - val_acc: 0.5832\n",
      "Epoch 21/30\n",
      "1584/1584 [==============================] - 37s 23ms/step - loss: 1.9322 - acc: 0.8308 - val_loss: 3.0740 - val_acc: 0.6024\n",
      "Epoch 22/30\n",
      "1584/1584 [==============================] - 37s 23ms/step - loss: 1.6028 - acc: 0.8668 - val_loss: 2.9876 - val_acc: 0.6127\n",
      "Epoch 23/30\n",
      "1584/1584 [==============================] - 39s 25ms/step - loss: 1.4673 - acc: 0.9003 - val_loss: 2.9859 - val_acc: 0.5714\n",
      "Epoch 24/30\n",
      "1584/1584 [==============================] - 37s 23ms/step - loss: 1.2029 - acc: 0.9040 - val_loss: 2.5135 - val_acc: 0.6303\n",
      "Epoch 25/30\n",
      "1584/1584 [==============================] - 40s 26ms/step - loss: 0.9710 - acc: 0.9223 - val_loss: 2.2637 - val_acc: 0.6097\n",
      "Epoch 26/30\n",
      "1584/1584 [==============================] - 38s 24ms/step - loss: 0.7340 - acc: 0.9470 - val_loss: 2.3757 - val_acc: 0.5891\n",
      "Epoch 27/30\n",
      "1584/1584 [==============================] - 39s 25ms/step - loss: 0.7031 - acc: 0.9533 - val_loss: 1.9804 - val_acc: 0.6937\n",
      "Epoch 28/30\n",
      "1584/1584 [==============================] - 40s 25ms/step - loss: 0.6959 - acc: 0.9564 - val_loss: 1.8613 - val_acc: 0.7334\n",
      "Epoch 29/30\n",
      "1584/1584 [==============================] - 40s 25ms/step - loss: 0.6918 - acc: 0.9571 - val_loss: 1.8420 - val_acc: 0.7320\n",
      "Epoch 30/30\n",
      "1584/1584 [==============================] - 41s 26ms/step - loss: 0.6908 - acc: 0.9571 - val_loss: 1.9188 - val_acc: 0.7158\n"
     ]
    }
   ],
   "source": [
    "train_result = model.fit(np.array(X_train), y_train_norm,\n",
    "          batch_size=16,\n",
    "          epochs=30,\n",
    "          verbose=1,\n",
    "          shuffle = True,\n",
    "         validation_data=(np.array(X_test), y_test_norm))"
   ]
  },
  {
   "cell_type": "code",
   "execution_count": 56,
   "metadata": {},
   "outputs": [],
   "source": [
    "model.save_weights('mfcc_model_weights_' + str(audio_len) + '_' + str(window_size) + '-' + str(n_mfcc) + '_' + str(ctr) + '.h5')\n",
    "ctr += 1"
   ]
  },
  {
   "cell_type": "code",
   "execution_count": 22,
   "metadata": {},
   "outputs": [
    {
     "name": "stdout",
     "output_type": "stream",
     "text": [
      "['acc', 'loss', 'val_acc', 'val_loss']\n"
     ]
    }
   ],
   "source": [
    "print(train_result.history.keys())"
   ]
  },
  {
   "cell_type": "code",
   "execution_count": 57,
   "metadata": {},
   "outputs": [
    {
     "data": {
      "image/png": "[encoded data removed]",
      "text/plain": [
       "<Figure size 432x288 with 1 Axes>"
      ]
     },
     "metadata": {},
     "output_type": "display_data"
    }
   ],
   "source": [
    "import matplotlib.pyplot as plt\n",
    "\n",
    "plt.style.use('dark_background')\n",
    "\n",
    "plt.plot(train_result.history['acc'], color=\"#5599FF\")\n",
    "plt.plot(train_result.history['val_acc'], color=\"#55FF99\")\n",
    "plt.title('model accuracy')\n",
    "plt.ylabel('accuracy')\n",
    "plt.xlabel('epoch')\n",
    "plt.legend(['train', 'test'], loc='upper left')\n",
    "plt.show()"
   ]
  },
  {
   "cell_type": "code",
   "execution_count": null,
   "metadata": {},
   "outputs": [],
   "source": []
  }
 ],
 "metadata": {
  "kernelspec": {
   "display_name": "Python 2",
   "language": "python",
   "name": "python2"
  },
  "language_info": {
   "codemirror_mode": {
    "name": "ipython",
    "version": 2
   },
   "file_extension": ".py",
   "mimetype": "text/x-python",
   "name": "python",
   "nbconvert_exporter": "python",
   "pygments_lexer": "ipython2",
   "version": "2.7.14"
  }
 },
 "nbformat": 4,
 "nbformat_minor": 2
}
