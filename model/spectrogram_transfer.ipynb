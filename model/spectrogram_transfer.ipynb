{
 "cells": [
  {
   "cell_type": "markdown",
   "metadata": {},
   "source": [
    "### Spectrogram based Transfer Learning"
   ]
  },
  {
   "cell_type": "markdown",
   "metadata": {},
   "source": [
    "#### Data cleanup"
   ]
  },
  {
   "cell_type": "code",
   "execution_count": 1,
   "metadata": {},
   "outputs": [
    {
     "name": "stderr",
     "output_type": "stream",
     "text": [
      "Using TensorFlow backend.\n"
     ]
    }
   ],
   "source": [
    "import os\n",
    "\n",
    "from keras.models import Model\n",
    "\n",
    "import numpy as np\n",
    "\n",
    "from sklearn.metrics import accuracy_score\n",
    "from sklearn import svm\n",
    "from sklearn.model_selection import train_test_split\n",
    "\n",
    "from sklearn.model_selection import StratifiedShuffleSplit\n",
    "from sklearn.model_selection import GridSearchCV\n",
    "\n",
    "from model_spectrogram import *\n",
    "from utils import *"
   ]
  },
  {
   "cell_type": "code",
   "execution_count": 5,
   "metadata": {},
   "outputs": [],
   "source": [
    "window_size = 12\n",
    "audio_len = 24\n",
    "audio_len_nn = 84\n",
    "data_dir = os.path.join('..', 'audio-train-transfer')\n",
    "n_samples = 112\n",
    "spect_shape = (540, 960, 3)"
   ]
  },
  {
   "cell_type": "code",
   "execution_count": 35,
   "metadata": {},
   "outputs": [],
   "source": [
    "def learn_nn_features(model, X):\n",
    "    X_SVM = []\n",
    "    for sample in range(len(X)):\n",
    "        x_exp = np.expand_dims(X[sample], axis = 0)\n",
    "        transfer_features = model.predict(x_exp)\n",
    "        X_SVM.append(transfer_features)\n",
    "        return X_SVM\n",
    "\n",
    "def grid_search(X, y):\n",
    "    C_range = np.logspace(-2, 10, 13)\n",
    "    gamma_range = np.logspace(-9, 3, 13)\n",
    "    param_grid = dict(gamma = gamma_range, C = C_range)\n",
    "    cv = StratifiedShuffleSplit(n_splits=5, test_size=0.25, random_state = 64)\n",
    "    grid = GridSearchCV(svm.SVC(kernel='linear', class_weight='balanced'), \\\n",
    "                        param_grid=param_grid, cv=cv)\n",
    "    grid.fit(X, y)\n",
    "    print(\"The best parameters are %s with a score of %0.2f\"\n",
    "          % (grid.best_params_, grid.best_score_))"
   ]
  },
  {
   "cell_type": "code",
   "execution_count": null,
   "metadata": {},
   "outputs": [],
   "source": [
    "def main():\n",
    "    print(\"Running preprocess\")\n",
    "    run_preprocess_spect(data_dir, str(audio_len), str(window_size), transfer = True)\n",
    "    \n",
    "    # Build the CNN\n",
    "    print(\"Building the model..\")\n",
    "    model = build_spectrogram_model(spect_shape, n_samples)\n",
    "\n",
    "    # Load saved neural network weights.\n",
    "    model.load_weights(os.path.join('..', 'neural-net-weights', \\\n",
    "                                    'spect_model_weights_' + str(4) + '.h5'))\n",
    "    \n",
    "    # Get the output layer (Flatten layer).\n",
    "    transfer_model = Model(inputs = model.input, outputs = model.get_layer('flatten_1').output)\n",
    "    \n",
    "    # Load features from stored spectrograms\n",
    "    print(\"Loading spectrogram files\")\n",
    "    X, y = load_features_spect(data_dir, str(window_size))\n",
    "    \n",
    "    # Read Flatten layer features from trained neural network.\n",
    "    X_SVM = learn_nn_features(transfer_model, X)\n",
    "    y_enc = encode(y)\n",
    "\n",
    "    # Split into test data\n",
    "    X_train, X_test, y_train, y_test = train_test_split(X, y, test_size=0.25, random_state=42)\n",
    "    X_train_SVM = np.array(X_train).reshape(len(X_train), -1)\n",
    "    \n",
    "    # Build a linear SVM model\n",
    "    model_SVM = svm.SVC(kernel='linear', class_weight='balanced')\n",
    "    \n",
    "    # Train the model\n",
    "    print(\"Training the SVM..\")\n",
    "    model_SVM.fit(X_train_SVM, y_train)\n",
    "    \n",
    "    # Predict the output\n",
    "    pred_acc = accuracy_score(y_test, model_SVM.predict(X_test))\n",
    "    \n",
    "    print(\"SVM Accuracy:\", pred_acc)\n",
    "    \n",
    "    print(\"Successfully completed.\")\n",
    "\n",
    "if __name__ == \"__main__\":\n",
    "    main()"
   ]
  },
  {
   "cell_type": "code",
   "execution_count": 62,
   "metadata": {},
   "outputs": [],
   "source": []
  },
  {
   "cell_type": "code",
   "execution_count": 63,
   "metadata": {},
   "outputs": [],
   "source": []
  }
 ],
 "metadata": {
  "kernelspec": {
   "display_name": "Python 2",
   "language": "python",
   "name": "python2"
  },
  "language_info": {
   "codemirror_mode": {
    "name": "ipython",
    "version": 2
   },
   "file_extension": ".py",
   "mimetype": "text/x-python",
   "name": "python",
   "nbconvert_exporter": "python",
   "pygments_lexer": "ipython2",
   "version": "2.7.14"
  }
 },
 "nbformat": 4,
 "nbformat_minor": 2
}
